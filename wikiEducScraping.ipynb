{
  "nbformat": 4,
  "nbformat_minor": 0,
  "metadata": {
    "colab": {
      "name": "Untitled0.ipynb",
      "provenance": [],
      "authorship_tag": "ABX9TyMRGEeoFl8vn2LstCccW7hs",
      "include_colab_link": true
    },
    "kernelspec": {
      "name": "python3",
      "display_name": "Python 3"
    },
    "language_info": {
      "name": "python"
    }
  },
  "cells": [
    {
      "cell_type": "markdown",
      "metadata": {
        "id": "view-in-github",
        "colab_type": "text"
      },
      "source": [
        "<a href=\"https://colab.research.google.com/github/ChristinaPhm/ChristinaPhm.github.io/blob/main/wikiEducScraping.ipynb\" target=\"_parent\"><img src=\"https://colab.research.google.com/assets/colab-badge.svg\" alt=\"Open In Colab\"/></a>"
      ]
    },
    {
      "cell_type": "code",
      "execution_count": null,
      "metadata": {
        "id": "pVQl_9Zae7WU"
      },
      "outputs": [],
      "source": [
        "# ////////////////////////////////////////////////////////////////\n",
        "# // 1.  Import packages that we might need:\n",
        "# // Packages for data manipulation\n",
        "import numpy as np\n",
        "import pandas as pd\n",
        "# // Web scraping: \n",
        "import requests\n",
        "from bs4 import BeautifulSoup\n",
        "# // OS. Sometimes need this for finding working directory:\n",
        "import os\n",
        "# ////////////////////////////////////////////////////////////////\n",
        "# ////////////////////////////////////////////////////////////////"
      ]
    },
    {
      "cell_type": "code",
      "source": [
        "# ////////////////////////////////////////////////////////////////\n",
        "# /// 2.  Set the URL ////////////////////////////////////////////\n",
        "# /// Notes: This could be a list of URLs\n",
        "\n",
        "URL = \"https://en.wikipedia.org/wiki/Educational_attainment_in_the_United_States\"\n",
        "\n",
        "# /// Do the html request:\n",
        "html = requests.get(URL)\n",
        "soup = BeautifulSoup(html.content, 'html.parser')\n",
        "\n",
        "# ////////////////////////////////////////////////////////////////\n",
        "# ////////////////////////////////////////////////////////////////"
      ],
      "metadata": {
        "id": "nYWY85T7fkOb"
      },
      "execution_count": null,
      "outputs": []
    },
    {
      "cell_type": "code",
      "source": [
        "soup"
      ],
      "metadata": {
        "id": "AbVOBbmuf3dQ"
      },
      "execution_count": null,
      "outputs": []
    },
    {
      "cell_type": "code",
      "source": [
        "soup_0 = soup.find_all(\"table\", class_=\"wikitable\")\n",
        "soup_0[0]"
      ],
      "metadata": {
        "id": "5XaOOYrmqN4H"
      },
      "execution_count": null,
      "outputs": []
    },
    {
      "cell_type": "code",
      "source": [
        "soup = soup_0[0]\n",
        "soup"
      ],
      "metadata": {
        "id": "pbmo3lEMy28y",
        "colab": {
          "base_uri": "https://localhost:8080/"
        },
        "outputId": "c32b23df-ea68-4396-b752-27a0f296a020"
      },
      "execution_count": null,
      "outputs": [
        {
          "output_type": "execute_result",
          "data": {
            "text/plain": [
              "<table class=\"wikitable\">\n",
              "<caption>Educational attainment in the United States (2018)<sup class=\"reference\" id=\"cite_ref-4\"><a href=\"#cite_note-4\">[4]</a></sup>\n",
              "</caption>\n",
              "<tbody><tr>\n",
              "<th>Education\n",
              "</th>\n",
              "<th>Age 25 and over\n",
              "</th>\n",
              "<th>Age 25-30\n",
              "</th></tr>\n",
              "<tr>\n",
              "<td>High school diploma or <a href=\"/wiki/General_Educational_Development\" title=\"General Educational Development\">GED</a>\n",
              "</td>\n",
              "<td align=\"right\">89.80%\n",
              "</td>\n",
              "<td align=\"right\">92.95%\n",
              "</td></tr>\n",
              "<tr>\n",
              "<td>Some college\n",
              "</td>\n",
              "<td align=\"right\">61.28%\n",
              "</td>\n",
              "<td align=\"right\">66.34%\n",
              "</td></tr>\n",
              "<tr>\n",
              "<td>Associate and/or bachelor's degree\n",
              "</td>\n",
              "<td align=\"right\">45.16%\n",
              "</td>\n",
              "<td align=\"right\">46.72%\n",
              "</td></tr>\n",
              "<tr>\n",
              "<td>Bachelor's degree\n",
              "</td>\n",
              "<td align=\"right\">34.98%\n",
              "</td>\n",
              "<td align=\"right\">36.98%\n",
              "</td></tr>\n",
              "<tr>\n",
              "<td>Master's and/or doctorate and/or professional degree\n",
              "</td>\n",
              "<td align=\"right\">13.04%\n",
              "</td>\n",
              "<td align=\"right\">9.01%\n",
              "</td></tr>\n",
              "<tr>\n",
              "<td>Doctorate and/or professional degree\n",
              "</td>\n",
              "<td align=\"right\">3.47%\n",
              "</td>\n",
              "<td align=\"right\">2.02%\n",
              "</td></tr>\n",
              "<tr>\n",
              "<td>Doctorate\n",
              "</td>\n",
              "<td align=\"right\">2.03%\n",
              "</td>\n",
              "<td align=\"right\">1.12%\n",
              "</td></tr></tbody></table>"
            ]
          },
          "metadata": {},
          "execution_count": 164
        }
      ]
    },
    {
      "cell_type": "code",
      "source": [
        "table = soup.find_all(\"tr\")\n",
        "for i in soup.find_all(\"tr\"):\n",
        "  print(i.a)\n",
        "educ = [i.text for i in table]\n",
        "educ = [item.replace(\"\\nEducation\\n\\nAge 25 and over\\n\\nAge 25-30\\n\", \"\").replace(\"\\n\", \"\").replace(\"%\", \"\").replace(\"2.031.12\", \"\").replace(\"3.472.02\", \"\").replace(\"13.049.01\", \"\").replace(\"34.9836.98\", \"\").replace(\"89.8092.95\", \"\").replace(\"61.2866.34\", \"\").replace(\"45.1646.72\", \"\") for item in educ]\n",
        "educ.remove('')\n",
        "educ"
      ],
      "metadata": {
        "colab": {
          "base_uri": "https://localhost:8080/"
        },
        "id": "CHp7FfwizuMj",
        "outputId": "be0ba622-d197-4e10-c414-ede16ad2c6c6"
      },
      "execution_count": null,
      "outputs": [
        {
          "output_type": "stream",
          "name": "stdout",
          "text": [
            "None\n",
            "<a href=\"/wiki/General_Educational_Development\" title=\"General Educational Development\">GED</a>\n",
            "None\n",
            "None\n",
            "None\n",
            "None\n",
            "None\n",
            "None\n"
          ]
        },
        {
          "output_type": "execute_result",
          "data": {
            "text/plain": [
              "['High school diploma or GED',\n",
              " 'Some college',\n",
              " \"Associate and/or bachelor's degree\",\n",
              " \"Bachelor's degree\",\n",
              " \"Master's and/or doctorate and/or professional degree\",\n",
              " 'Doctorate and/or professional degree',\n",
              " 'Doctorate']"
            ]
          },
          "metadata": {},
          "execution_count": 167
        }
      ]
    },
    {
      "cell_type": "code",
      "source": [
        "table2 = soup.find_all(\"td\")\n",
        "for i in soup.find_all(\"td\"):\n",
        "  print(i.a)\n",
        "over25 = [i.text for i in table2]\n",
        "over25 = [item.replace(\"\\n\", \"\").replace(\",\", \"\").replace(\"High school diploma or GED\", \"\").replace(\"Some college\", \"\").replace(\"Associate and/or bachelor's degree\", \"\").replace(\"Bachelor's degree\", \"\").replace(\"Master's and/or doctorate and/or professional degree\", \"\").replace(\"Doctorate and/or professional degree\", \"\").replace(\"Doctorate\", \"\") for item in over25]\n",
        "over25.remove('')\n",
        "over25.remove('')\n",
        "over25.remove('')\n",
        "over25.remove('')\n",
        "over25.remove('')\n",
        "over25.remove('')\n",
        "over25.remove('')\n",
        "value = over25.pop(1)\n",
        "value = over25.pop(2)\n",
        "value = over25.pop(3)\n",
        "value = over25.pop(4)\n",
        "value = over25.pop(5)\n",
        "value = over25.pop(6)\n",
        "value = over25.pop(7)\n",
        "over25\n"
      ],
      "metadata": {
        "id": "qJ989ChHyoYQ",
        "colab": {
          "base_uri": "https://localhost:8080/"
        },
        "outputId": "adfd3451-ca39-481e-c4a4-6689d2f3a715"
      },
      "execution_count": null,
      "outputs": [
        {
          "output_type": "stream",
          "name": "stdout",
          "text": [
            "<a href=\"/wiki/General_Educational_Development\" title=\"General Educational Development\">GED</a>\n",
            "None\n",
            "None\n",
            "None\n",
            "None\n",
            "None\n",
            "None\n",
            "None\n",
            "None\n",
            "None\n",
            "None\n",
            "None\n",
            "None\n",
            "None\n",
            "None\n",
            "None\n",
            "None\n",
            "None\n",
            "None\n",
            "None\n",
            "None\n"
          ]
        },
        {
          "output_type": "execute_result",
          "data": {
            "text/plain": [
              "['89.80%', '61.28%', '45.16%', '34.98%', '13.04%', '3.47%', '2.03%']"
            ]
          },
          "metadata": {},
          "execution_count": 210
        }
      ]
    },
    {
      "cell_type": "code",
      "source": [
        "df1=pd.DataFrame([educ,over25]).T"
      ],
      "metadata": {
        "id": "qpxpiyjgCwFR"
      },
      "execution_count": null,
      "outputs": []
    },
    {
      "cell_type": "code",
      "source": [
        "df1.columns=['Highest education level','Percentage of over-25 population']"
      ],
      "metadata": {
        "id": "ISKbsGPUDF94"
      },
      "execution_count": null,
      "outputs": []
    },
    {
      "cell_type": "code",
      "source": [
        "pd.concat([df1])"
      ],
      "metadata": {
        "colab": {
          "base_uri": "https://localhost:8080/",
          "height": 258
        },
        "id": "G5ZOaFCQDY29",
        "outputId": "6bf67572-8e5d-4c62-9db9-8c626bc7838a"
      },
      "execution_count": null,
      "outputs": [
        {
          "output_type": "execute_result",
          "data": {
            "text/html": [
              "\n",
              "  <div id=\"df-b584134f-5210-41df-b903-2976b5a79e6f\">\n",
              "    <div class=\"colab-df-container\">\n",
              "      <div>\n",
              "<style scoped>\n",
              "    .dataframe tbody tr th:only-of-type {\n",
              "        vertical-align: middle;\n",
              "    }\n",
              "\n",
              "    .dataframe tbody tr th {\n",
              "        vertical-align: top;\n",
              "    }\n",
              "\n",
              "    .dataframe thead th {\n",
              "        text-align: right;\n",
              "    }\n",
              "</style>\n",
              "<table border=\"1\" class=\"dataframe\">\n",
              "  <thead>\n",
              "    <tr style=\"text-align: right;\">\n",
              "      <th></th>\n",
              "      <th>Highest education level</th>\n",
              "      <th>Percentage of over-25 population</th>\n",
              "    </tr>\n",
              "  </thead>\n",
              "  <tbody>\n",
              "    <tr>\n",
              "      <th>0</th>\n",
              "      <td>High school diploma or GED</td>\n",
              "      <td>89.80%</td>\n",
              "    </tr>\n",
              "    <tr>\n",
              "      <th>1</th>\n",
              "      <td>Some college</td>\n",
              "      <td>61.28%</td>\n",
              "    </tr>\n",
              "    <tr>\n",
              "      <th>2</th>\n",
              "      <td>Associate and/or bachelor's degree</td>\n",
              "      <td>45.16%</td>\n",
              "    </tr>\n",
              "    <tr>\n",
              "      <th>3</th>\n",
              "      <td>Bachelor's degree</td>\n",
              "      <td>34.98%</td>\n",
              "    </tr>\n",
              "    <tr>\n",
              "      <th>4</th>\n",
              "      <td>Master's and/or doctorate and/or professional ...</td>\n",
              "      <td>13.04%</td>\n",
              "    </tr>\n",
              "    <tr>\n",
              "      <th>5</th>\n",
              "      <td>Doctorate and/or professional degree</td>\n",
              "      <td>3.47%</td>\n",
              "    </tr>\n",
              "    <tr>\n",
              "      <th>6</th>\n",
              "      <td>Doctorate</td>\n",
              "      <td>2.03%</td>\n",
              "    </tr>\n",
              "  </tbody>\n",
              "</table>\n",
              "</div>\n",
              "      <button class=\"colab-df-convert\" onclick=\"convertToInteractive('df-b584134f-5210-41df-b903-2976b5a79e6f')\"\n",
              "              title=\"Convert this dataframe to an interactive table.\"\n",
              "              style=\"display:none;\">\n",
              "        \n",
              "  <svg xmlns=\"http://www.w3.org/2000/svg\" height=\"24px\"viewBox=\"0 0 24 24\"\n",
              "       width=\"24px\">\n",
              "    <path d=\"M0 0h24v24H0V0z\" fill=\"none\"/>\n",
              "    <path d=\"M18.56 5.44l.94 2.06.94-2.06 2.06-.94-2.06-.94-.94-2.06-.94 2.06-2.06.94zm-11 1L8.5 8.5l.94-2.06 2.06-.94-2.06-.94L8.5 2.5l-.94 2.06-2.06.94zm10 10l.94 2.06.94-2.06 2.06-.94-2.06-.94-.94-2.06-.94 2.06-2.06.94z\"/><path d=\"M17.41 7.96l-1.37-1.37c-.4-.4-.92-.59-1.43-.59-.52 0-1.04.2-1.43.59L10.3 9.45l-7.72 7.72c-.78.78-.78 2.05 0 2.83L4 21.41c.39.39.9.59 1.41.59.51 0 1.02-.2 1.41-.59l7.78-7.78 2.81-2.81c.8-.78.8-2.07 0-2.86zM5.41 20L4 18.59l7.72-7.72 1.47 1.35L5.41 20z\"/>\n",
              "  </svg>\n",
              "      </button>\n",
              "      \n",
              "  <style>\n",
              "    .colab-df-container {\n",
              "      display:flex;\n",
              "      flex-wrap:wrap;\n",
              "      gap: 12px;\n",
              "    }\n",
              "\n",
              "    .colab-df-convert {\n",
              "      background-color: #E8F0FE;\n",
              "      border: none;\n",
              "      border-radius: 50%;\n",
              "      cursor: pointer;\n",
              "      display: none;\n",
              "      fill: #1967D2;\n",
              "      height: 32px;\n",
              "      padding: 0 0 0 0;\n",
              "      width: 32px;\n",
              "    }\n",
              "\n",
              "    .colab-df-convert:hover {\n",
              "      background-color: #E2EBFA;\n",
              "      box-shadow: 0px 1px 2px rgba(60, 64, 67, 0.3), 0px 1px 3px 1px rgba(60, 64, 67, 0.15);\n",
              "      fill: #174EA6;\n",
              "    }\n",
              "\n",
              "    [theme=dark] .colab-df-convert {\n",
              "      background-color: #3B4455;\n",
              "      fill: #D2E3FC;\n",
              "    }\n",
              "\n",
              "    [theme=dark] .colab-df-convert:hover {\n",
              "      background-color: #434B5C;\n",
              "      box-shadow: 0px 1px 3px 1px rgba(0, 0, 0, 0.15);\n",
              "      filter: drop-shadow(0px 1px 2px rgba(0, 0, 0, 0.3));\n",
              "      fill: #FFFFFF;\n",
              "    }\n",
              "  </style>\n",
              "\n",
              "      <script>\n",
              "        const buttonEl =\n",
              "          document.querySelector('#df-b584134f-5210-41df-b903-2976b5a79e6f button.colab-df-convert');\n",
              "        buttonEl.style.display =\n",
              "          google.colab.kernel.accessAllowed ? 'block' : 'none';\n",
              "\n",
              "        async function convertToInteractive(key) {\n",
              "          const element = document.querySelector('#df-b584134f-5210-41df-b903-2976b5a79e6f');\n",
              "          const dataTable =\n",
              "            await google.colab.kernel.invokeFunction('convertToInteractive',\n",
              "                                                     [key], {});\n",
              "          if (!dataTable) return;\n",
              "\n",
              "          const docLinkHtml = 'Like what you see? Visit the ' +\n",
              "            '<a target=\"_blank\" href=https://colab.research.google.com/notebooks/data_table.ipynb>data table notebook</a>'\n",
              "            + ' to learn more about interactive tables.';\n",
              "          element.innerHTML = '';\n",
              "          dataTable['output_type'] = 'display_data';\n",
              "          await google.colab.output.renderOutput(dataTable, element);\n",
              "          const docLink = document.createElement('div');\n",
              "          docLink.innerHTML = docLinkHtml;\n",
              "          element.appendChild(docLink);\n",
              "        }\n",
              "      </script>\n",
              "    </div>\n",
              "  </div>\n",
              "  "
            ],
            "text/plain": [
              "                             Highest education level Percentage of over-25 population\n",
              "0                         High school diploma or GED                           89.80%\n",
              "1                                       Some college                           61.28%\n",
              "2                 Associate and/or bachelor's degree                           45.16%\n",
              "3                                  Bachelor's degree                           34.98%\n",
              "4  Master's and/or doctorate and/or professional ...                           13.04%\n",
              "5               Doctorate and/or professional degree                            3.47%\n",
              "6                                          Doctorate                            2.03%"
            ]
          },
          "metadata": {},
          "execution_count": 213
        }
      ]
    },
    {
      "cell_type": "code",
      "source": [
        "df1.to_csv('Wiki_USEducationLevel.csv')"
      ],
      "metadata": {
        "id": "aAoOKlqfDeFr"
      },
      "execution_count": null,
      "outputs": []
    }
  ]
}