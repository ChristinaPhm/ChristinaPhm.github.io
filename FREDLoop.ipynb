{
  "nbformat": 4,
  "nbformat_minor": 0,
  "metadata": {
    "colab": {
      "name": "FREDLoop.ipynb",
      "provenance": [],
      "include_colab_link": true
    },
    "kernelspec": {
      "name": "python3",
      "display_name": "Python 3"
    },
    "language_info": {
      "name": "python"
    }
  },
  "cells": [
    {
      "cell_type": "markdown",
      "metadata": {
        "id": "view-in-github",
        "colab_type": "text"
      },
      "source": [
        "<a href=\"https://colab.research.google.com/github/ChristinaPhm/ChristinaPhm.github.io/blob/main/FREDLoop.ipynb\" target=\"_parent\"><img src=\"https://colab.research.google.com/assets/colab-badge.svg\" alt=\"Open In Colab\"/></a>"
      ]
    },
    {
      "cell_type": "code",
      "metadata": {
        "id": "FP7IPVZU9pVB"
      },
      "source": [
        "# /// Import tools that we will need:\n",
        "\n",
        "import requests\n",
        "import os\n",
        "import json\n",
        "from google.colab import files"
      ],
      "execution_count": 8,
      "outputs": []
    },
    {
      "cell_type": "code",
      "metadata": {
        "id": "YUoHm9iiSvgq"
      },
      "source": [
        "blank = {\"id\": 1}"
      ],
      "execution_count": 9,
      "outputs": []
    },
    {
      "cell_type": "code",
      "metadata": {
        "id": "775qg9YzS5xl"
      },
      "source": [
        "series = [1-488549]"
      ],
      "execution_count": 10,
      "outputs": []
    },
    {
      "cell_type": "code",
      "metadata": {
        "id": "AN2c9rrJssJ9"
      },
      "source": [
        "# // Set the base url:\n",
        "url_base = \"https://api.stlouisfed.org/fred/series/observations?series_id={}&api_key=22ee7a76e736e32f54f5df0a7171538d&file_type=json\"\n",
        "\n",
        "# // Set the base fileName:\n",
        "file_base = \"data_FRED-{}.json\"\n",
        "\n",
        "# // Pick the series that I want:\n",
        "fredSeries = ['WFRBST01134', 'WFRBST01108', 'WFRBSN09161', 'WFRBLB50107']\n",
        "   "
      ],
      "execution_count": 11,
      "outputs": []
    },
    {
      "cell_type": "code",
      "source": [
        "# // Begin a loop, dealing with each series, one by one:\n",
        "for i in fredSeries:  \n",
        "\n",
        "   # // Print the iteration of the loop we are on:\n",
        "   # // This is not necessary but can be helpful. \n",
        "   print(i) \n",
        "  \n",
        "   # // Build the URL for this iteration of the loop, and check what we are getting:\n",
        "   URL = url_base.format(i)\n",
        "   print(URL)\n",
        "\n",
        "   # // Request the html from the URL:\n",
        "   data = requests.get(URL).json()\n",
        "   print(data)\n",
        "\n",
        "   # // Set the filename, and check what we are getting:\n",
        "   fileName = file_base.format(i)\n",
        "   print(fileName)\n",
        "\n",
        "   # /// Save the file:\n",
        "   with open(fileName, 'w', encoding='utf-8') as f:\n",
        "     json.dump(data, f, ensure_ascii=False, indent=4)\n",
        "\n",
        "   # /// Download the file to local machine:\n",
        "   files.download(fileName)"
      ],
      "metadata": {
        "colab": {
          "base_uri": "https://localhost:8080/",
          "height": 315
        },
        "id": "E_m-GH9qBNX0",
        "outputId": "b339389a-4034-4d63-8492-390ef7faeea4"
      },
      "execution_count": 15,
      "outputs": [
        {
          "output_type": "stream",
          "name": "stdout",
          "text": [
            "WFRBST01134\n",
            "https://api.stlouisfed.org/fred/series/observations?series_id=WFRBST01134&api_key=22ee7a76e736e32f54f5df0a7171538d&file_type=json\n",
            "{'realtime_start': '2022-01-04', 'realtime_end': '2022-01-04', 'observation_start': '1600-01-01', 'observation_end': '9999-12-31', 'units': 'lin', 'output_type': 1, 'file_type': 'json', 'order_by': 'observation_date', 'sort_order': 'asc', 'count': 129, 'offset': 0, 'limit': 100000, 'observations': [{'realtime_start': '2022-01-04', 'realtime_end': '2022-01-04', 'date': '1989-07-01', 'value': '23.6'}, {'realtime_start': '2022-01-04', 'realtime_end': '2022-01-04', 'date': '1989-10-01', 'value': '23.6'}, {'realtime_start': '2022-01-04', 'realtime_end': '2022-01-04', 'date': '1990-01-01', 'value': '23.5'}, {'realtime_start': '2022-01-04', 'realtime_end': '2022-01-04', 'date': '1990-04-01', 'value': '23.7'}, {'realtime_start': '2022-01-04', 'realtime_end': '2022-01-04', 'date': '1990-07-01', 'value': '23.2'}, {'realtime_start': '2022-01-04', 'realtime_end': '2022-01-04', 'date': '1990-10-01', 'value': '23.5'}, {'realtime_start': '2022-01-04', 'realtime_end': '2022-01-04', 'date': '1991-01-01', 'value': '23.8'}, {'realtime_start': '2022-01-04', 'realtime_end': '2022-01-04', 'date': '1991-04-01', 'value': '23.8'}, {'realtime_start': '2022-01-04', 'realtime_end': '2022-01-04', 'date': '1991-07-01', 'value': '23.9'}, {'realtime_start': '2022-01-04', 'realtime_end': '2022-01-04', 'date': '1991-10-01', 'value': '24.4'}, {'realtime_start': '2022-01-04', 'realtime_end': '2022-01-04', 'date': '1992-01-01', 'value': '24.2'}, {'realtime_start': '2022-01-04', 'realtime_end': '2022-01-04', 'date': '1992-04-01', 'value': '24.2'}, {'realtime_start': '2022-01-04', 'realtime_end': '2022-01-04', 'date': '1992-07-01', 'value': '24.1'}, {'realtime_start': '2022-01-04', 'realtime_end': '2022-01-04', 'date': '1992-10-01', 'value': '24.6'}, {'realtime_start': '2022-01-04', 'realtime_end': '2022-01-04', 'date': '1993-01-01', 'value': '25.2'}, {'realtime_start': '2022-01-04', 'realtime_end': '2022-01-04', 'date': '1993-04-01', 'value': '25.4'}, {'realtime_start': '2022-01-04', 'realtime_end': '2022-01-04', 'date': '1993-07-01', 'value': '25.7'}, {'realtime_start': '2022-01-04', 'realtime_end': '2022-01-04', 'date': '1993-10-01', 'value': '26.1'}, {'realtime_start': '2022-01-04', 'realtime_end': '2022-01-04', 'date': '1994-01-01', 'value': '26.4'}, {'realtime_start': '2022-01-04', 'realtime_end': '2022-01-04', 'date': '1994-04-01', 'value': '26.7'}, {'realtime_start': '2022-01-04', 'realtime_end': '2022-01-04', 'date': '1994-07-01', 'value': '26.9'}, {'realtime_start': '2022-01-04', 'realtime_end': '2022-01-04', 'date': '1994-10-01', 'value': '27.4'}, {'realtime_start': '2022-01-04', 'realtime_end': '2022-01-04', 'date': '1995-01-01', 'value': '27.9'}, {'realtime_start': '2022-01-04', 'realtime_end': '2022-01-04', 'date': '1995-04-01', 'value': '28.0'}, {'realtime_start': '2022-01-04', 'realtime_end': '2022-01-04', 'date': '1995-07-01', 'value': '28.3'}, {'realtime_start': '2022-01-04', 'realtime_end': '2022-01-04', 'date': '1995-10-01', 'value': '28.5'}, {'realtime_start': '2022-01-04', 'realtime_end': '2022-01-04', 'date': '1996-01-01', 'value': '28.4'}, {'realtime_start': '2022-01-04', 'realtime_end': '2022-01-04', 'date': '1996-04-01', 'value': '28.3'}, {'realtime_start': '2022-01-04', 'realtime_end': '2022-01-04', 'date': '1996-07-01', 'value': '28.2'}, {'realtime_start': '2022-01-04', 'realtime_end': '2022-01-04', 'date': '1996-10-01', 'value': '28.4'}, {'realtime_start': '2022-01-04', 'realtime_end': '2022-01-04', 'date': '1997-01-01', 'value': '28.0'}, {'realtime_start': '2022-01-04', 'realtime_end': '2022-01-04', 'date': '1997-04-01', 'value': '28.3'}, {'realtime_start': '2022-01-04', 'realtime_end': '2022-01-04', 'date': '1997-07-01', 'value': '28.4'}, {'realtime_start': '2022-01-04', 'realtime_end': '2022-01-04', 'date': '1997-10-01', 'value': '28.3'}, {'realtime_start': '2022-01-04', 'realtime_end': '2022-01-04', 'date': '1998-01-01', 'value': '28.6'}, {'realtime_start': '2022-01-04', 'realtime_end': '2022-01-04', 'date': '1998-04-01', 'value': '28.6'}, {'realtime_start': '2022-01-04', 'realtime_end': '2022-01-04', 'date': '1998-07-01', 'value': '27.9'}, {'realtime_start': '2022-01-04', 'realtime_end': '2022-01-04', 'date': '1998-10-01', 'value': '28.1'}, {'realtime_start': '2022-01-04', 'realtime_end': '2022-01-04', 'date': '1999-01-01', 'value': '27.9'}, {'realtime_start': '2022-01-04', 'realtime_end': '2022-01-04', 'date': '1999-04-01', 'value': '28.1'}, {'realtime_start': '2022-01-04', 'realtime_end': '2022-01-04', 'date': '1999-07-01', 'value': '27.8'}, {'realtime_start': '2022-01-04', 'realtime_end': '2022-01-04', 'date': '1999-10-01', 'value': '28.3'}, {'realtime_start': '2022-01-04', 'realtime_end': '2022-01-04', 'date': '2000-01-01', 'value': '28.6'}, {'realtime_start': '2022-01-04', 'realtime_end': '2022-01-04', 'date': '2000-04-01', 'value': '28.1'}, {'realtime_start': '2022-01-04', 'realtime_end': '2022-01-04', 'date': '2000-07-01', 'value': '27.8'}, {'realtime_start': '2022-01-04', 'realtime_end': '2022-01-04', 'date': '2000-10-01', 'value': '27.2'}, {'realtime_start': '2022-01-04', 'realtime_end': '2022-01-04', 'date': '2001-01-01', 'value': '26.6'}, {'realtime_start': '2022-01-04', 'realtime_end': '2022-01-04', 'date': '2001-04-01', 'value': '26.6'}, {'realtime_start': '2022-01-04', 'realtime_end': '2022-01-04', 'date': '2001-07-01', 'value': '25.9'}, {'realtime_start': '2022-01-04', 'realtime_end': '2022-01-04', 'date': '2001-10-01', 'value': '26.0'}, {'realtime_start': '2022-01-04', 'realtime_end': '2022-01-04', 'date': '2002-01-01', 'value': '26.1'}, {'realtime_start': '2022-01-04', 'realtime_end': '2022-01-04', 'date': '2002-04-01', 'value': '26.1'}, {'realtime_start': '2022-01-04', 'realtime_end': '2022-01-04', 'date': '2002-07-01', 'value': '25.4'}, {'realtime_start': '2022-01-04', 'realtime_end': '2022-01-04', 'date': '2002-10-01', 'value': '25.1'}, {'realtime_start': '2022-01-04', 'realtime_end': '2022-01-04', 'date': '2003-01-01', 'value': '25.0'}, {'realtime_start': '2022-01-04', 'realtime_end': '2022-01-04', 'date': '2003-04-01', 'value': '25.8'}, {'realtime_start': '2022-01-04', 'realtime_end': '2022-01-04', 'date': '2003-07-01', 'value': '26.1'}, {'realtime_start': '2022-01-04', 'realtime_end': '2022-01-04', 'date': '2003-10-01', 'value': '26.5'}, {'realtime_start': '2022-01-04', 'realtime_end': '2022-01-04', 'date': '2004-01-01', 'value': '27.2'}, {'realtime_start': '2022-01-04', 'realtime_end': '2022-01-04', 'date': '2004-04-01', 'value': '27.1'}, {'realtime_start': '2022-01-04', 'realtime_end': '2022-01-04', 'date': '2004-07-01', 'value': '27.4'}, {'realtime_start': '2022-01-04', 'realtime_end': '2022-01-04', 'date': '2004-10-01', 'value': '27.6'}, {'realtime_start': '2022-01-04', 'realtime_end': '2022-01-04', 'date': '2005-01-01', 'value': '27.7'}, {'realtime_start': '2022-01-04', 'realtime_end': '2022-01-04', 'date': '2005-04-01', 'value': '28.0'}, {'realtime_start': '2022-01-04', 'realtime_end': '2022-01-04', 'date': '2005-07-01', 'value': '28.1'}, {'realtime_start': '2022-01-04', 'realtime_end': '2022-01-04', 'date': '2005-10-01', 'value': '28.1'}, {'realtime_start': '2022-01-04', 'realtime_end': '2022-01-04', 'date': '2006-01-01', 'value': '28.8'}, {'realtime_start': '2022-01-04', 'realtime_end': '2022-01-04', 'date': '2006-04-01', 'value': '28.7'}, {'realtime_start': '2022-01-04', 'realtime_end': '2022-01-04', 'date': '2006-07-01', 'value': '28.8'}, {'realtime_start': '2022-01-04', 'realtime_end': '2022-01-04', 'date': '2006-10-01', 'value': '29.0'}, {'realtime_start': '2022-01-04', 'realtime_end': '2022-01-04', 'date': '2007-01-01', 'value': '29.3'}, {'realtime_start': '2022-01-04', 'realtime_end': '2022-01-04', 'date': '2007-04-01', 'value': '29.4'}, {'realtime_start': '2022-01-04', 'realtime_end': '2022-01-04', 'date': '2007-07-01', 'value': '29.5'}, {'realtime_start': '2022-01-04', 'realtime_end': '2022-01-04', 'date': '2007-10-01', 'value': '29.2'}, {'realtime_start': '2022-01-04', 'realtime_end': '2022-01-04', 'date': '2008-01-01', 'value': '29.1'}, {'realtime_start': '2022-01-04', 'realtime_end': '2022-01-04', 'date': '2008-04-01', 'value': '28.9'}, {'realtime_start': '2022-01-04', 'realtime_end': '2022-01-04', 'date': '2008-07-01', 'value': '28.6'}, {'realtime_start': '2022-01-04', 'realtime_end': '2022-01-04', 'date': '2008-10-01', 'value': '27.2'}, {'realtime_start': '2022-01-04', 'realtime_end': '2022-01-04', 'date': '2009-01-01', 'value': '26.9'}, {'realtime_start': '2022-01-04', 'realtime_end': '2022-01-04', 'date': '2009-04-01', 'value': '27.2'}, {'realtime_start': '2022-01-04', 'realtime_end': '2022-01-04', 'date': '2009-07-01', 'value': '28.1'}, {'realtime_start': '2022-01-04', 'realtime_end': '2022-01-04', 'date': '2009-10-01', 'value': '27.5'}, {'realtime_start': '2022-01-04', 'realtime_end': '2022-01-04', 'date': '2010-01-01', 'value': '28.2'}, {'realtime_start': '2022-01-04', 'realtime_end': '2022-01-04', 'date': '2010-04-01', 'value': '28.1'}, {'realtime_start': '2022-01-04', 'realtime_end': '2022-01-04', 'date': '2010-07-01', 'value': '28.4'}, {'realtime_start': '2022-01-04', 'realtime_end': '2022-01-04', 'date': '2010-10-01', 'value': '28.4'}, {'realtime_start': '2022-01-04', 'realtime_end': '2022-01-04', 'date': '2011-01-01', 'value': '29.1'}, {'realtime_start': '2022-01-04', 'realtime_end': '2022-01-04', 'date': '2011-04-01', 'value': '29.3'}, {'realtime_start': '2022-01-04', 'realtime_end': '2022-01-04', 'date': '2011-07-01', 'value': '29.0'}, {'realtime_start': '2022-01-04', 'realtime_end': '2022-01-04', 'date': '2011-10-01', 'value': '28.8'}, {'realtime_start': '2022-01-04', 'realtime_end': '2022-01-04', 'date': '2012-01-01', 'value': '29.4'}, {'realtime_start': '2022-01-04', 'realtime_end': '2022-01-04', 'date': '2012-04-01', 'value': '29.5'}, {'realtime_start': '2022-01-04', 'realtime_end': '2022-01-04', 'date': '2012-07-01', 'value': '29.6'}, {'realtime_start': '2022-01-04', 'realtime_end': '2022-01-04', 'date': '2012-10-01', 'value': '29.7'}, {'realtime_start': '2022-01-04', 'realtime_end': '2022-01-04', 'date': '2013-01-01', 'value': '30.0'}, {'realtime_start': '2022-01-04', 'realtime_end': '2022-01-04', 'date': '2013-04-01', 'value': '30.0'}, {'realtime_start': '2022-01-04', 'realtime_end': '2022-01-04', 'date': '2013-07-01', 'value': '29.9'}, {'realtime_start': '2022-01-04', 'realtime_end': '2022-01-04', 'date': '2013-10-01', 'value': '29.9'}, {'realtime_start': '2022-01-04', 'realtime_end': '2022-01-04', 'date': '2014-01-01', 'value': '30.4'}, {'realtime_start': '2022-01-04', 'realtime_end': '2022-01-04', 'date': '2014-04-01', 'value': '30.6'}, {'realtime_start': '2022-01-04', 'realtime_end': '2022-01-04', 'date': '2014-07-01', 'value': '30.6'}, {'realtime_start': '2022-01-04', 'realtime_end': '2022-01-04', 'date': '2014-10-01', 'value': '30.7'}, {'realtime_start': '2022-01-04', 'realtime_end': '2022-01-04', 'date': '2015-01-01', 'value': '31.0'}, {'realtime_start': '2022-01-04', 'realtime_end': '2022-01-04', 'date': '2015-04-01', 'value': '31.1'}, {'realtime_start': '2022-01-04', 'realtime_end': '2022-01-04', 'date': '2015-07-01', 'value': '30.9'}, {'realtime_start': '2022-01-04', 'realtime_end': '2022-01-04', 'date': '2015-10-01', 'value': '30.8'}, {'realtime_start': '2022-01-04', 'realtime_end': '2022-01-04', 'date': '2016-01-01', 'value': '31.0'}, {'realtime_start': '2022-01-04', 'realtime_end': '2022-01-04', 'date': '2016-04-01', 'value': '31.2'}, {'realtime_start': '2022-01-04', 'realtime_end': '2022-01-04', 'date': '2016-07-01', 'value': '31.1'}, {'realtime_start': '2022-01-04', 'realtime_end': '2022-01-04', 'date': '2016-10-01', 'value': '30.8'}, {'realtime_start': '2022-01-04', 'realtime_end': '2022-01-04', 'date': '2017-01-01', 'value': '31.0'}, {'realtime_start': '2022-01-04', 'realtime_end': '2022-01-04', 'date': '2017-04-01', 'value': '31.0'}, {'realtime_start': '2022-01-04', 'realtime_end': '2022-01-04', 'date': '2017-07-01', 'value': '30.9'}, {'realtime_start': '2022-01-04', 'realtime_end': '2022-01-04', 'date': '2017-10-01', 'value': '31.0'}, {'realtime_start': '2022-01-04', 'realtime_end': '2022-01-04', 'date': '2018-01-01', 'value': '31.0'}, {'realtime_start': '2022-01-04', 'realtime_end': '2022-01-04', 'date': '2018-04-01', 'value': '30.9'}, {'realtime_start': '2022-01-04', 'realtime_end': '2022-01-04', 'date': '2018-07-01', 'value': '31.0'}, {'realtime_start': '2022-01-04', 'realtime_end': '2022-01-04', 'date': '2018-10-01', 'value': '30.3'}, {'realtime_start': '2022-01-04', 'realtime_end': '2022-01-04', 'date': '2019-01-01', 'value': '30.7'}, {'realtime_start': '2022-01-04', 'realtime_end': '2022-01-04', 'date': '2019-04-01', 'value': '30.7'}, {'realtime_start': '2022-01-04', 'realtime_end': '2022-01-04', 'date': '2019-07-01', 'value': '30.5'}, {'realtime_start': '2022-01-04', 'realtime_end': '2022-01-04', 'date': '2019-10-01', 'value': '30.8'}, {'realtime_start': '2022-01-04', 'realtime_end': '2022-01-04', 'date': '2020-01-01', 'value': '29.7'}, {'realtime_start': '2022-01-04', 'realtime_end': '2022-01-04', 'date': '2020-04-01', 'value': '30.4'}, {'realtime_start': '2022-01-04', 'realtime_end': '2022-01-04', 'date': '2020-07-01', 'value': '30.8'}, {'realtime_start': '2022-01-04', 'realtime_end': '2022-01-04', 'date': '2020-10-01', 'value': '31.5'}, {'realtime_start': '2022-01-04', 'realtime_end': '2022-01-04', 'date': '2021-01-01', 'value': '31.9'}, {'realtime_start': '2022-01-04', 'realtime_end': '2022-01-04', 'date': '2021-04-01', 'value': '32.2'}, {'realtime_start': '2022-01-04', 'realtime_end': '2022-01-04', 'date': '2021-07-01', 'value': '32.1'}]}\n",
            "data_FRED-WFRBST01134.json\n"
          ]
        },
        {
          "output_type": "display_data",
          "data": {
            "application/javascript": [
              "\n",
              "    async function download(id, filename, size) {\n",
              "      if (!google.colab.kernel.accessAllowed) {\n",
              "        return;\n",
              "      }\n",
              "      const div = document.createElement('div');\n",
              "      const label = document.createElement('label');\n",
              "      label.textContent = `Downloading \"${filename}\": `;\n",
              "      div.appendChild(label);\n",
              "      const progress = document.createElement('progress');\n",
              "      progress.max = size;\n",
              "      div.appendChild(progress);\n",
              "      document.body.appendChild(div);\n",
              "\n",
              "      const buffers = [];\n",
              "      let downloaded = 0;\n",
              "\n",
              "      const channel = await google.colab.kernel.comms.open(id);\n",
              "      // Send a message to notify the kernel that we're ready.\n",
              "      channel.send({})\n",
              "\n",
              "      for await (const message of channel.messages) {\n",
              "        // Send a message to notify the kernel that we're ready.\n",
              "        channel.send({})\n",
              "        if (message.buffers) {\n",
              "          for (const buffer of message.buffers) {\n",
              "            buffers.push(buffer);\n",
              "            downloaded += buffer.byteLength;\n",
              "            progress.value = downloaded;\n",
              "          }\n",
              "        }\n",
              "      }\n",
              "      const blob = new Blob(buffers, {type: 'application/binary'});\n",
              "      const a = document.createElement('a');\n",
              "      a.href = window.URL.createObjectURL(blob);\n",
              "      a.download = filename;\n",
              "      div.appendChild(a);\n",
              "      a.click();\n",
              "      div.remove();\n",
              "    }\n",
              "  "
            ],
            "text/plain": [
              "<IPython.core.display.Javascript object>"
            ]
          },
          "metadata": {}
        },
        {
          "output_type": "display_data",
          "data": {
            "application/javascript": [
              "download(\"download_b7d5d1bd-fa25-404f-b69e-e9275f3ae887\", \"data_FRED-WFRBST01134.json\", 22161)"
            ],
            "text/plain": [
              "<IPython.core.display.Javascript object>"
            ]
          },
          "metadata": {}
        },
        {
          "output_type": "stream",
          "name": "stdout",
          "text": [
            "WFRBST01108\n",
            "https://api.stlouisfed.org/fred/series/observations?series_id=WFRBST01108&api_key=22ee7a76e736e32f54f5df0a7171538d&file_type=json\n",
            "{'realtime_start': '2022-01-04', 'realtime_end': '2022-01-04', 'observation_start': '1600-01-01', 'observation_end': '9999-12-31', 'units': 'lin', 'output_type': 1, 'file_type': 'json', 'order_by': 'observation_date', 'sort_order': 'asc', 'count': 129, 'offset': 0, 'limit': 100000, 'observations': [{'realtime_start': '2022-01-04', 'realtime_end': '2022-01-04', 'date': '1989-07-01', 'value': '20.9'}, {'realtime_start': '2022-01-04', 'realtime_end': '2022-01-04', 'date': '1989-10-01', 'value': '21.0'}, {'realtime_start': '2022-01-04', 'realtime_end': '2022-01-04', 'date': '1990-01-01', 'value': '20.8'}, {'realtime_start': '2022-01-04', 'realtime_end': '2022-01-04', 'date': '1990-04-01', 'value': '21.0'}, {'realtime_start': '2022-01-04', 'realtime_end': '2022-01-04', 'date': '1990-07-01', 'value': '20.5'}, {'realtime_start': '2022-01-04', 'realtime_end': '2022-01-04', 'date': '1990-10-01', 'value': '20.8'}, {'realtime_start': '2022-01-04', 'realtime_end': '2022-01-04', 'date': '1991-01-01', 'value': '21.1'}, {'realtime_start': '2022-01-04', 'realtime_end': '2022-01-04', 'date': '1991-04-01', 'value': '21.0'}, {'realtime_start': '2022-01-04', 'realtime_end': '2022-01-04', 'date': '1991-07-01', 'value': '21.2'}, {'realtime_start': '2022-01-04', 'realtime_end': '2022-01-04', 'date': '1991-10-01', 'value': '21.6'}, {'realtime_start': '2022-01-04', 'realtime_end': '2022-01-04', 'date': '1992-01-01', 'value': '21.5'}, {'realtime_start': '2022-01-04', 'realtime_end': '2022-01-04', 'date': '1992-04-01', 'value': '21.4'}, {'realtime_start': '2022-01-04', 'realtime_end': '2022-01-04', 'date': '1992-07-01', 'value': '21.3'}, {'realtime_start': '2022-01-04', 'realtime_end': '2022-01-04', 'date': '1992-10-01', 'value': '21.7'}, {'realtime_start': '2022-01-04', 'realtime_end': '2022-01-04', 'date': '1993-01-01', 'value': '22.4'}, {'realtime_start': '2022-01-04', 'realtime_end': '2022-01-04', 'date': '1993-04-01', 'value': '22.5'}, {'realtime_start': '2022-01-04', 'realtime_end': '2022-01-04', 'date': '1993-07-01', 'value': '22.7'}, {'realtime_start': '2022-01-04', 'realtime_end': '2022-01-04', 'date': '1993-10-01', 'value': '23.0'}, {'realtime_start': '2022-01-04', 'realtime_end': '2022-01-04', 'date': '1994-01-01', 'value': '23.3'}, {'realtime_start': '2022-01-04', 'realtime_end': '2022-01-04', 'date': '1994-04-01', 'value': '23.6'}, {'realtime_start': '2022-01-04', 'realtime_end': '2022-01-04', 'date': '1994-07-01', 'value': '23.7'}, {'realtime_start': '2022-01-04', 'realtime_end': '2022-01-04', 'date': '1994-10-01', 'value': '24.1'}, {'realtime_start': '2022-01-04', 'realtime_end': '2022-01-04', 'date': '1995-01-01', 'value': '24.5'}, {'realtime_start': '2022-01-04', 'realtime_end': '2022-01-04', 'date': '1995-04-01', 'value': '24.6'}, {'realtime_start': '2022-01-04', 'realtime_end': '2022-01-04', 'date': '1995-07-01', 'value': '24.9'}, {'realtime_start': '2022-01-04', 'realtime_end': '2022-01-04', 'date': '1995-10-01', 'value': '25.1'}, {'realtime_start': '2022-01-04', 'realtime_end': '2022-01-04', 'date': '1996-01-01', 'value': '25.0'}, {'realtime_start': '2022-01-04', 'realtime_end': '2022-01-04', 'date': '1996-04-01', 'value': '25.0'}, {'realtime_start': '2022-01-04', 'realtime_end': '2022-01-04', 'date': '1996-07-01', 'value': '24.8'}, {'realtime_start': '2022-01-04', 'realtime_end': '2022-01-04', 'date': '1996-10-01', 'value': '25.0'}, {'realtime_start': '2022-01-04', 'realtime_end': '2022-01-04', 'date': '1997-01-01', 'value': '24.7'}, {'realtime_start': '2022-01-04', 'realtime_end': '2022-01-04', 'date': '1997-04-01', 'value': '25.0'}, {'realtime_start': '2022-01-04', 'realtime_end': '2022-01-04', 'date': '1997-07-01', 'value': '25.1'}, {'realtime_start': '2022-01-04', 'realtime_end': '2022-01-04', 'date': '1997-10-01', 'value': '25.1'}, {'realtime_start': '2022-01-04', 'realtime_end': '2022-01-04', 'date': '1998-01-01', 'value': '25.4'}, {'realtime_start': '2022-01-04', 'realtime_end': '2022-01-04', 'date': '1998-04-01', 'value': '25.4'}, {'realtime_start': '2022-01-04', 'realtime_end': '2022-01-04', 'date': '1998-07-01', 'value': '24.7'}, {'realtime_start': '2022-01-04', 'realtime_end': '2022-01-04', 'date': '1998-10-01', 'value': '25.0'}, {'realtime_start': '2022-01-04', 'realtime_end': '2022-01-04', 'date': '1999-01-01', 'value': '24.7'}, {'realtime_start': '2022-01-04', 'realtime_end': '2022-01-04', 'date': '1999-04-01', 'value': '24.9'}, {'realtime_start': '2022-01-04', 'realtime_end': '2022-01-04', 'date': '1999-07-01', 'value': '24.6'}, {'realtime_start': '2022-01-04', 'realtime_end': '2022-01-04', 'date': '1999-10-01', 'value': '25.2'}, {'realtime_start': '2022-01-04', 'realtime_end': '2022-01-04', 'date': '2000-01-01', 'value': '25.4'}, {'realtime_start': '2022-01-04', 'realtime_end': '2022-01-04', 'date': '2000-04-01', 'value': '24.9'}, {'realtime_start': '2022-01-04', 'realtime_end': '2022-01-04', 'date': '2000-07-01', 'value': '24.6'}, {'realtime_start': '2022-01-04', 'realtime_end': '2022-01-04', 'date': '2000-10-01', 'value': '24.0'}, {'realtime_start': '2022-01-04', 'realtime_end': '2022-01-04', 'date': '2001-01-01', 'value': '23.5'}, {'realtime_start': '2022-01-04', 'realtime_end': '2022-01-04', 'date': '2001-04-01', 'value': '23.5'}, {'realtime_start': '2022-01-04', 'realtime_end': '2022-01-04', 'date': '2001-07-01', 'value': '22.7'}, {'realtime_start': '2022-01-04', 'realtime_end': '2022-01-04', 'date': '2001-10-01', 'value': '22.9'}, {'realtime_start': '2022-01-04', 'realtime_end': '2022-01-04', 'date': '2002-01-01', 'value': '23.0'}, {'realtime_start': '2022-01-04', 'realtime_end': '2022-01-04', 'date': '2002-04-01', 'value': '22.9'}, {'realtime_start': '2022-01-04', 'realtime_end': '2022-01-04', 'date': '2002-07-01', 'value': '22.2'}, {'realtime_start': '2022-01-04', 'realtime_end': '2022-01-04', 'date': '2002-10-01', 'value': '21.9'}, {'realtime_start': '2022-01-04', 'realtime_end': '2022-01-04', 'date': '2003-01-01', 'value': '21.8'}, {'realtime_start': '2022-01-04', 'realtime_end': '2022-01-04', 'date': '2003-04-01', 'value': '22.5'}, {'realtime_start': '2022-01-04', 'realtime_end': '2022-01-04', 'date': '2003-07-01', 'value': '22.7'}, {'realtime_start': '2022-01-04', 'realtime_end': '2022-01-04', 'date': '2003-10-01', 'value': '23.2'}, {'realtime_start': '2022-01-04', 'realtime_end': '2022-01-04', 'date': '2004-01-01', 'value': '23.9'}, {'realtime_start': '2022-01-04', 'realtime_end': '2022-01-04', 'date': '2004-04-01', 'value': '23.7'}, {'realtime_start': '2022-01-04', 'realtime_end': '2022-01-04', 'date': '2004-07-01', 'value': '23.9'}, {'realtime_start': '2022-01-04', 'realtime_end': '2022-01-04', 'date': '2004-10-01', 'value': '24.1'}, {'realtime_start': '2022-01-04', 'realtime_end': '2022-01-04', 'date': '2005-01-01', 'value': '24.2'}, {'realtime_start': '2022-01-04', 'realtime_end': '2022-01-04', 'date': '2005-04-01', 'value': '24.3'}, {'realtime_start': '2022-01-04', 'realtime_end': '2022-01-04', 'date': '2005-07-01', 'value': '24.4'}, {'realtime_start': '2022-01-04', 'realtime_end': '2022-01-04', 'date': '2005-10-01', 'value': '24.4'}, {'realtime_start': '2022-01-04', 'realtime_end': '2022-01-04', 'date': '2006-01-01', 'value': '24.9'}, {'realtime_start': '2022-01-04', 'realtime_end': '2022-01-04', 'date': '2006-04-01', 'value': '24.7'}, {'realtime_start': '2022-01-04', 'realtime_end': '2022-01-04', 'date': '2006-07-01', 'value': '24.7'}, {'realtime_start': '2022-01-04', 'realtime_end': '2022-01-04', 'date': '2006-10-01', 'value': '24.9'}, {'realtime_start': '2022-01-04', 'realtime_end': '2022-01-04', 'date': '2007-01-01', 'value': '25.2'}, {'realtime_start': '2022-01-04', 'realtime_end': '2022-01-04', 'date': '2007-04-01', 'value': '25.1'}, {'realtime_start': '2022-01-04', 'realtime_end': '2022-01-04', 'date': '2007-07-01', 'value': '25.2'}, {'realtime_start': '2022-01-04', 'realtime_end': '2022-01-04', 'date': '2007-10-01', 'value': '24.9'}, {'realtime_start': '2022-01-04', 'realtime_end': '2022-01-04', 'date': '2008-01-01', 'value': '24.6'}, {'realtime_start': '2022-01-04', 'realtime_end': '2022-01-04', 'date': '2008-04-01', 'value': '24.4'}, {'realtime_start': '2022-01-04', 'realtime_end': '2022-01-04', 'date': '2008-07-01', 'value': '24.0'}, {'realtime_start': '2022-01-04', 'realtime_end': '2022-01-04', 'date': '2008-10-01', 'value': '22.8'}, {'realtime_start': '2022-01-04', 'realtime_end': '2022-01-04', 'date': '2009-01-01', 'value': '22.6'}, {'realtime_start': '2022-01-04', 'realtime_end': '2022-01-04', 'date': '2009-04-01', 'value': '22.9'}, {'realtime_start': '2022-01-04', 'realtime_end': '2022-01-04', 'date': '2009-07-01', 'value': '23.7'}, {'realtime_start': '2022-01-04', 'realtime_end': '2022-01-04', 'date': '2009-10-01', 'value': '23.3'}, {'realtime_start': '2022-01-04', 'realtime_end': '2022-01-04', 'date': '2010-01-01', 'value': '23.9'}, {'realtime_start': '2022-01-04', 'realtime_end': '2022-01-04', 'date': '2010-04-01', 'value': '23.8'}, {'realtime_start': '2022-01-04', 'realtime_end': '2022-01-04', 'date': '2010-07-01', 'value': '24.2'}, {'realtime_start': '2022-01-04', 'realtime_end': '2022-01-04', 'date': '2010-10-01', 'value': '24.3'}, {'realtime_start': '2022-01-04', 'realtime_end': '2022-01-04', 'date': '2011-01-01', 'value': '24.9'}, {'realtime_start': '2022-01-04', 'realtime_end': '2022-01-04', 'date': '2011-04-01', 'value': '25.0'}, {'realtime_start': '2022-01-04', 'realtime_end': '2022-01-04', 'date': '2011-07-01', 'value': '24.7'}, {'realtime_start': '2022-01-04', 'realtime_end': '2022-01-04', 'date': '2011-10-01', 'value': '24.6'}, {'realtime_start': '2022-01-04', 'realtime_end': '2022-01-04', 'date': '2012-01-01', 'value': '25.2'}, {'realtime_start': '2022-01-04', 'realtime_end': '2022-01-04', 'date': '2012-04-01', 'value': '25.3'}, {'realtime_start': '2022-01-04', 'realtime_end': '2022-01-04', 'date': '2012-07-01', 'value': '25.5'}, {'realtime_start': '2022-01-04', 'realtime_end': '2022-01-04', 'date': '2012-10-01', 'value': '25.6'}, {'realtime_start': '2022-01-04', 'realtime_end': '2022-01-04', 'date': '2013-01-01', 'value': '26.0'}, {'realtime_start': '2022-01-04', 'realtime_end': '2022-01-04', 'date': '2013-04-01', 'value': '26.1'}, {'realtime_start': '2022-01-04', 'realtime_end': '2022-01-04', 'date': '2013-07-01', 'value': '26.1'}, {'realtime_start': '2022-01-04', 'realtime_end': '2022-01-04', 'date': '2013-10-01', 'value': '26.1'}, {'realtime_start': '2022-01-04', 'realtime_end': '2022-01-04', 'date': '2014-01-01', 'value': '26.6'}, {'realtime_start': '2022-01-04', 'realtime_end': '2022-01-04', 'date': '2014-04-01', 'value': '26.8'}, {'realtime_start': '2022-01-04', 'realtime_end': '2022-01-04', 'date': '2014-07-01', 'value': '26.9'}, {'realtime_start': '2022-01-04', 'realtime_end': '2022-01-04', 'date': '2014-10-01', 'value': '27.1'}, {'realtime_start': '2022-01-04', 'realtime_end': '2022-01-04', 'date': '2015-01-01', 'value': '27.3'}, {'realtime_start': '2022-01-04', 'realtime_end': '2022-01-04', 'date': '2015-04-01', 'value': '27.5'}, {'realtime_start': '2022-01-04', 'realtime_end': '2022-01-04', 'date': '2015-07-01', 'value': '27.2'}, {'realtime_start': '2022-01-04', 'realtime_end': '2022-01-04', 'date': '2015-10-01', 'value': '27.2'}, {'realtime_start': '2022-01-04', 'realtime_end': '2022-01-04', 'date': '2016-01-01', 'value': '27.5'}, {'realtime_start': '2022-01-04', 'realtime_end': '2022-01-04', 'date': '2016-04-01', 'value': '27.7'}, {'realtime_start': '2022-01-04', 'realtime_end': '2022-01-04', 'date': '2016-07-01', 'value': '27.6'}, {'realtime_start': '2022-01-04', 'realtime_end': '2022-01-04', 'date': '2016-10-01', 'value': '27.3'}, {'realtime_start': '2022-01-04', 'realtime_end': '2022-01-04', 'date': '2017-01-01', 'value': '27.6'}, {'realtime_start': '2022-01-04', 'realtime_end': '2022-01-04', 'date': '2017-04-01', 'value': '27.6'}, {'realtime_start': '2022-01-04', 'realtime_end': '2022-01-04', 'date': '2017-07-01', 'value': '27.5'}, {'realtime_start': '2022-01-04', 'realtime_end': '2022-01-04', 'date': '2017-10-01', 'value': '27.6'}, {'realtime_start': '2022-01-04', 'realtime_end': '2022-01-04', 'date': '2018-01-01', 'value': '27.7'}, {'realtime_start': '2022-01-04', 'realtime_end': '2022-01-04', 'date': '2018-04-01', 'value': '27.6'}, {'realtime_start': '2022-01-04', 'realtime_end': '2022-01-04', 'date': '2018-07-01', 'value': '27.7'}, {'realtime_start': '2022-01-04', 'realtime_end': '2022-01-04', 'date': '2018-10-01', 'value': '26.9'}, {'realtime_start': '2022-01-04', 'realtime_end': '2022-01-04', 'date': '2019-01-01', 'value': '27.5'}, {'realtime_start': '2022-01-04', 'realtime_end': '2022-01-04', 'date': '2019-04-01', 'value': '27.5'}, {'realtime_start': '2022-01-04', 'realtime_end': '2022-01-04', 'date': '2019-07-01', 'value': '27.3'}, {'realtime_start': '2022-01-04', 'realtime_end': '2022-01-04', 'date': '2019-10-01', 'value': '27.6'}, {'realtime_start': '2022-01-04', 'realtime_end': '2022-01-04', 'date': '2020-01-01', 'value': '26.4'}, {'realtime_start': '2022-01-04', 'realtime_end': '2022-01-04', 'date': '2020-04-01', 'value': '27.3'}, {'realtime_start': '2022-01-04', 'realtime_end': '2022-01-04', 'date': '2020-07-01', 'value': '27.7'}, {'realtime_start': '2022-01-04', 'realtime_end': '2022-01-04', 'date': '2020-10-01', 'value': '28.4'}, {'realtime_start': '2022-01-04', 'realtime_end': '2022-01-04', 'date': '2021-01-01', 'value': '28.8'}, {'realtime_start': '2022-01-04', 'realtime_end': '2022-01-04', 'date': '2021-04-01', 'value': '29.2'}, {'realtime_start': '2022-01-04', 'realtime_end': '2022-01-04', 'date': '2021-07-01', 'value': '29.1'}]}\n",
            "data_FRED-WFRBST01108.json\n"
          ]
        },
        {
          "output_type": "display_data",
          "data": {
            "application/javascript": [
              "\n",
              "    async function download(id, filename, size) {\n",
              "      if (!google.colab.kernel.accessAllowed) {\n",
              "        return;\n",
              "      }\n",
              "      const div = document.createElement('div');\n",
              "      const label = document.createElement('label');\n",
              "      label.textContent = `Downloading \"${filename}\": `;\n",
              "      div.appendChild(label);\n",
              "      const progress = document.createElement('progress');\n",
              "      progress.max = size;\n",
              "      div.appendChild(progress);\n",
              "      document.body.appendChild(div);\n",
              "\n",
              "      const buffers = [];\n",
              "      let downloaded = 0;\n",
              "\n",
              "      const channel = await google.colab.kernel.comms.open(id);\n",
              "      // Send a message to notify the kernel that we're ready.\n",
              "      channel.send({})\n",
              "\n",
              "      for await (const message of channel.messages) {\n",
              "        // Send a message to notify the kernel that we're ready.\n",
              "        channel.send({})\n",
              "        if (message.buffers) {\n",
              "          for (const buffer of message.buffers) {\n",
              "            buffers.push(buffer);\n",
              "            downloaded += buffer.byteLength;\n",
              "            progress.value = downloaded;\n",
              "          }\n",
              "        }\n",
              "      }\n",
              "      const blob = new Blob(buffers, {type: 'application/binary'});\n",
              "      const a = document.createElement('a');\n",
              "      a.href = window.URL.createObjectURL(blob);\n",
              "      a.download = filename;\n",
              "      div.appendChild(a);\n",
              "      a.click();\n",
              "      div.remove();\n",
              "    }\n",
              "  "
            ],
            "text/plain": [
              "<IPython.core.display.Javascript object>"
            ]
          },
          "metadata": {}
        },
        {
          "output_type": "display_data",
          "data": {
            "application/javascript": [
              "download(\"download_3319e15e-0365-4dea-9ccd-9978fda1b610\", \"data_FRED-WFRBST01108.json\", 22161)"
            ],
            "text/plain": [
              "<IPython.core.display.Javascript object>"
            ]
          },
          "metadata": {}
        },
        {
          "output_type": "stream",
          "name": "stdout",
          "text": [
            "WFRBSN09161\n",
            "https://api.stlouisfed.org/fred/series/observations?series_id=WFRBSN09161&api_key=22ee7a76e736e32f54f5df0a7171538d&file_type=json\n",
            "{'realtime_start': '2022-01-04', 'realtime_end': '2022-01-04', 'observation_start': '1600-01-01', 'observation_end': '9999-12-31', 'units': 'lin', 'output_type': 1, 'file_type': 'json', 'order_by': 'observation_date', 'sort_order': 'asc', 'count': 129, 'offset': 0, 'limit': 100000, 'observations': [{'realtime_start': '2022-01-04', 'realtime_end': '2022-01-04', 'date': '1989-07-01', 'value': '37.3'}, {'realtime_start': '2022-01-04', 'realtime_end': '2022-01-04', 'date': '1989-10-01', 'value': '37.2'}, {'realtime_start': '2022-01-04', 'realtime_end': '2022-01-04', 'date': '1990-01-01', 'value': '37.1'}, {'realtime_start': '2022-01-04', 'realtime_end': '2022-01-04', 'date': '1990-04-01', 'value': '37.0'}, {'realtime_start': '2022-01-04', 'realtime_end': '2022-01-04', 'date': '1990-07-01', 'value': '37.0'}, {'realtime_start': '2022-01-04', 'realtime_end': '2022-01-04', 'date': '1990-10-01', 'value': '36.8'}, {'realtime_start': '2022-01-04', 'realtime_end': '2022-01-04', 'date': '1991-01-01', 'value': '36.6'}, {'realtime_start': '2022-01-04', 'realtime_end': '2022-01-04', 'date': '1991-04-01', 'value': '36.5'}, {'realtime_start': '2022-01-04', 'realtime_end': '2022-01-04', 'date': '1991-07-01', 'value': '36.0'}, {'realtime_start': '2022-01-04', 'realtime_end': '2022-01-04', 'date': '1991-10-01', 'value': '35.8'}, {'realtime_start': '2022-01-04', 'realtime_end': '2022-01-04', 'date': '1992-01-01', 'value': '35.7'}, {'realtime_start': '2022-01-04', 'realtime_end': '2022-01-04', 'date': '1992-04-01', 'value': '35.5'}, {'realtime_start': '2022-01-04', 'realtime_end': '2022-01-04', 'date': '1992-07-01', 'value': '35.4'}, {'realtime_start': '2022-01-04', 'realtime_end': '2022-01-04', 'date': '1992-10-01', 'value': '35.2'}, {'realtime_start': '2022-01-04', 'realtime_end': '2022-01-04', 'date': '1993-01-01', 'value': '34.9'}, {'realtime_start': '2022-01-04', 'realtime_end': '2022-01-04', 'date': '1993-04-01', 'value': '34.7'}, {'realtime_start': '2022-01-04', 'realtime_end': '2022-01-04', 'date': '1993-07-01', 'value': '34.5'}, {'realtime_start': '2022-01-04', 'realtime_end': '2022-01-04', 'date': '1993-10-01', 'value': '34.4'}, {'realtime_start': '2022-01-04', 'realtime_end': '2022-01-04', 'date': '1994-01-01', 'value': '34.3'}, {'realtime_start': '2022-01-04', 'realtime_end': '2022-01-04', 'date': '1994-04-01', 'value': '34.1'}, {'realtime_start': '2022-01-04', 'realtime_end': '2022-01-04', 'date': '1994-07-01', 'value': '33.9'}, {'realtime_start': '2022-01-04', 'realtime_end': '2022-01-04', 'date': '1994-10-01', 'value': '33.7'}, {'realtime_start': '2022-01-04', 'realtime_end': '2022-01-04', 'date': '1995-01-01', 'value': '33.5'}, {'realtime_start': '2022-01-04', 'realtime_end': '2022-01-04', 'date': '1995-04-01', 'value': '33.4'}, {'realtime_start': '2022-01-04', 'realtime_end': '2022-01-04', 'date': '1995-07-01', 'value': '33.3'}, {'realtime_start': '2022-01-04', 'realtime_end': '2022-01-04', 'date': '1995-10-01', 'value': '33.3'}, {'realtime_start': '2022-01-04', 'realtime_end': '2022-01-04', 'date': '1996-01-01', 'value': '33.4'}, {'realtime_start': '2022-01-04', 'realtime_end': '2022-01-04', 'date': '1996-04-01', 'value': '33.4'}, {'realtime_start': '2022-01-04', 'realtime_end': '2022-01-04', 'date': '1996-07-01', 'value': '33.3'}, {'realtime_start': '2022-01-04', 'realtime_end': '2022-01-04', 'date': '1996-10-01', 'value': '33.3'}, {'realtime_start': '2022-01-04', 'realtime_end': '2022-01-04', 'date': '1997-01-01', 'value': '33.8'}, {'realtime_start': '2022-01-04', 'realtime_end': '2022-01-04', 'date': '1997-04-01', 'value': '33.8'}, {'realtime_start': '2022-01-04', 'realtime_end': '2022-01-04', 'date': '1997-07-01', 'value': '33.9'}, {'realtime_start': '2022-01-04', 'realtime_end': '2022-01-04', 'date': '1997-10-01', 'value': '34.1'}, {'realtime_start': '2022-01-04', 'realtime_end': '2022-01-04', 'date': '1998-01-01', 'value': '34.3'}, {'realtime_start': '2022-01-04', 'realtime_end': '2022-01-04', 'date': '1998-04-01', 'value': '34.3'}, {'realtime_start': '2022-01-04', 'realtime_end': '2022-01-04', 'date': '1998-07-01', 'value': '34.3'}, {'realtime_start': '2022-01-04', 'realtime_end': '2022-01-04', 'date': '1998-10-01', 'value': '34.6'}, {'realtime_start': '2022-01-04', 'realtime_end': '2022-01-04', 'date': '1999-01-01', 'value': '34.7'}, {'realtime_start': '2022-01-04', 'realtime_end': '2022-01-04', 'date': '1999-04-01', 'value': '34.7'}, {'realtime_start': '2022-01-04', 'realtime_end': '2022-01-04', 'date': '1999-07-01', 'value': '34.7'}, {'realtime_start': '2022-01-04', 'realtime_end': '2022-01-04', 'date': '1999-10-01', 'value': '34.7'}, {'realtime_start': '2022-01-04', 'realtime_end': '2022-01-04', 'date': '2000-01-01', 'value': '34.8'}, {'realtime_start': '2022-01-04', 'realtime_end': '2022-01-04', 'date': '2000-04-01', 'value': '34.8'}, {'realtime_start': '2022-01-04', 'realtime_end': '2022-01-04', 'date': '2000-07-01', 'value': '35.1'}, {'realtime_start': '2022-01-04', 'realtime_end': '2022-01-04', 'date': '2000-10-01', 'value': '35.1'}, {'realtime_start': '2022-01-04', 'realtime_end': '2022-01-04', 'date': '2001-01-01', 'value': '35.0'}, {'realtime_start': '2022-01-04', 'realtime_end': '2022-01-04', 'date': '2001-04-01', 'value': '35.3'}, {'realtime_start': '2022-01-04', 'realtime_end': '2022-01-04', 'date': '2001-07-01', 'value': '35.3'}, {'realtime_start': '2022-01-04', 'realtime_end': '2022-01-04', 'date': '2001-10-01', 'value': '35.3'}, {'realtime_start': '2022-01-04', 'realtime_end': '2022-01-04', 'date': '2002-01-01', 'value': '35.3'}, {'realtime_start': '2022-01-04', 'realtime_end': '2022-01-04', 'date': '2002-04-01', 'value': '35.5'}, {'realtime_start': '2022-01-04', 'realtime_end': '2022-01-04', 'date': '2002-07-01', 'value': '35.4'}, {'realtime_start': '2022-01-04', 'realtime_end': '2022-01-04', 'date': '2002-10-01', 'value': '35.5'}, {'realtime_start': '2022-01-04', 'realtime_end': '2022-01-04', 'date': '2003-01-01', 'value': '35.7'}, {'realtime_start': '2022-01-04', 'realtime_end': '2022-01-04', 'date': '2003-04-01', 'value': '35.7'}, {'realtime_start': '2022-01-04', 'realtime_end': '2022-01-04', 'date': '2003-07-01', 'value': '35.6'}, {'realtime_start': '2022-01-04', 'realtime_end': '2022-01-04', 'date': '2003-10-01', 'value': '35.5'}, {'realtime_start': '2022-01-04', 'realtime_end': '2022-01-04', 'date': '2004-01-01', 'value': '35.5'}, {'realtime_start': '2022-01-04', 'realtime_end': '2022-01-04', 'date': '2004-04-01', 'value': '35.7'}, {'realtime_start': '2022-01-04', 'realtime_end': '2022-01-04', 'date': '2004-07-01', 'value': '35.9'}, {'realtime_start': '2022-01-04', 'realtime_end': '2022-01-04', 'date': '2004-10-01', 'value': '35.7'}, {'realtime_start': '2022-01-04', 'realtime_end': '2022-01-04', 'date': '2005-01-01', 'value': '35.9'}, {'realtime_start': '2022-01-04', 'realtime_end': '2022-01-04', 'date': '2005-04-01', 'value': '35.9'}, {'realtime_start': '2022-01-04', 'realtime_end': '2022-01-04', 'date': '2005-07-01', 'value': '35.9'}, {'realtime_start': '2022-01-04', 'realtime_end': '2022-01-04', 'date': '2005-10-01', 'value': '35.8'}, {'realtime_start': '2022-01-04', 'realtime_end': '2022-01-04', 'date': '2006-01-01', 'value': '36.2'}, {'realtime_start': '2022-01-04', 'realtime_end': '2022-01-04', 'date': '2006-04-01', 'value': '36.5'}, {'realtime_start': '2022-01-04', 'realtime_end': '2022-01-04', 'date': '2006-07-01', 'value': '36.5'}, {'realtime_start': '2022-01-04', 'realtime_end': '2022-01-04', 'date': '2006-10-01', 'value': '36.5'}, {'realtime_start': '2022-01-04', 'realtime_end': '2022-01-04', 'date': '2007-01-01', 'value': '37.0'}, {'realtime_start': '2022-01-04', 'realtime_end': '2022-01-04', 'date': '2007-04-01', 'value': '37.4'}, {'realtime_start': '2022-01-04', 'realtime_end': '2022-01-04', 'date': '2007-07-01', 'value': '37.7'}, {'realtime_start': '2022-01-04', 'realtime_end': '2022-01-04', 'date': '2007-10-01', 'value': '37.9'}, {'realtime_start': '2022-01-04', 'realtime_end': '2022-01-04', 'date': '2008-01-01', 'value': '38.3'}, {'realtime_start': '2022-01-04', 'realtime_end': '2022-01-04', 'date': '2008-04-01', 'value': '38.5'}, {'realtime_start': '2022-01-04', 'realtime_end': '2022-01-04', 'date': '2008-07-01', 'value': '39.1'}, {'realtime_start': '2022-01-04', 'realtime_end': '2022-01-04', 'date': '2008-10-01', 'value': '39.3'}, {'realtime_start': '2022-01-04', 'realtime_end': '2022-01-04', 'date': '2009-01-01', 'value': '40.2'}, {'realtime_start': '2022-01-04', 'realtime_end': '2022-01-04', 'date': '2009-04-01', 'value': '39.7'}, {'realtime_start': '2022-01-04', 'realtime_end': '2022-01-04', 'date': '2009-07-01', 'value': '39.7'}, {'realtime_start': '2022-01-04', 'realtime_end': '2022-01-04', 'date': '2009-10-01', 'value': '39.2'}, {'realtime_start': '2022-01-04', 'realtime_end': '2022-01-04', 'date': '2010-01-01', 'value': '39.6'}, {'realtime_start': '2022-01-04', 'realtime_end': '2022-01-04', 'date': '2010-04-01', 'value': '39.8'}, {'realtime_start': '2022-01-04', 'realtime_end': '2022-01-04', 'date': '2010-07-01', 'value': '39.8'}, {'realtime_start': '2022-01-04', 'realtime_end': '2022-01-04', 'date': '2010-10-01', 'value': '39.4'}, {'realtime_start': '2022-01-04', 'realtime_end': '2022-01-04', 'date': '2011-01-01', 'value': '39.5'}, {'realtime_start': '2022-01-04', 'realtime_end': '2022-01-04', 'date': '2011-04-01', 'value': '39.3'}, {'realtime_start': '2022-01-04', 'realtime_end': '2022-01-04', 'date': '2011-07-01', 'value': '39.3'}, {'realtime_start': '2022-01-04', 'realtime_end': '2022-01-04', 'date': '2011-10-01', 'value': '39.0'}, {'realtime_start': '2022-01-04', 'realtime_end': '2022-01-04', 'date': '2012-01-01', 'value': '39.2'}, {'realtime_start': '2022-01-04', 'realtime_end': '2022-01-04', 'date': '2012-04-01', 'value': '39.1'}, {'realtime_start': '2022-01-04', 'realtime_end': '2022-01-04', 'date': '2012-07-01', 'value': '38.8'}, {'realtime_start': '2022-01-04', 'realtime_end': '2022-01-04', 'date': '2012-10-01', 'value': '38.6'}, {'realtime_start': '2022-01-04', 'realtime_end': '2022-01-04', 'date': '2013-01-01', 'value': '38.6'}, {'realtime_start': '2022-01-04', 'realtime_end': '2022-01-04', 'date': '2013-04-01', 'value': '38.8'}, {'realtime_start': '2022-01-04', 'realtime_end': '2022-01-04', 'date': '2013-07-01', 'value': '38.6'}, {'realtime_start': '2022-01-04', 'realtime_end': '2022-01-04', 'date': '2013-10-01', 'value': '38.4'}, {'realtime_start': '2022-01-04', 'realtime_end': '2022-01-04', 'date': '2014-01-01', 'value': '38.4'}, {'realtime_start': '2022-01-04', 'realtime_end': '2022-01-04', 'date': '2014-04-01', 'value': '38.4'}, {'realtime_start': '2022-01-04', 'realtime_end': '2022-01-04', 'date': '2014-07-01', 'value': '38.6'}, {'realtime_start': '2022-01-04', 'realtime_end': '2022-01-04', 'date': '2014-10-01', 'value': '38.4'}, {'realtime_start': '2022-01-04', 'realtime_end': '2022-01-04', 'date': '2015-01-01', 'value': '38.5'}, {'realtime_start': '2022-01-04', 'realtime_end': '2022-01-04', 'date': '2015-04-01', 'value': '38.6'}, {'realtime_start': '2022-01-04', 'realtime_end': '2022-01-04', 'date': '2015-07-01', 'value': '38.7'}, {'realtime_start': '2022-01-04', 'realtime_end': '2022-01-04', 'date': '2015-10-01', 'value': '38.3'}, {'realtime_start': '2022-01-04', 'realtime_end': '2022-01-04', 'date': '2016-01-01', 'value': '38.3'}, {'realtime_start': '2022-01-04', 'realtime_end': '2022-01-04', 'date': '2016-04-01', 'value': '38.4'}, {'realtime_start': '2022-01-04', 'realtime_end': '2022-01-04', 'date': '2016-07-01', 'value': '38.4'}, {'realtime_start': '2022-01-04', 'realtime_end': '2022-01-04', 'date': '2016-10-01', 'value': '38.2'}, {'realtime_start': '2022-01-04', 'realtime_end': '2022-01-04', 'date': '2017-01-01', 'value': '38.3'}, {'realtime_start': '2022-01-04', 'realtime_end': '2022-01-04', 'date': '2017-04-01', 'value': '38.4'}, {'realtime_start': '2022-01-04', 'realtime_end': '2022-01-04', 'date': '2017-07-01', 'value': '38.4'}, {'realtime_start': '2022-01-04', 'realtime_end': '2022-01-04', 'date': '2017-10-01', 'value': '38.3'}, {'realtime_start': '2022-01-04', 'realtime_end': '2022-01-04', 'date': '2018-01-01', 'value': '38.4'}, {'realtime_start': '2022-01-04', 'realtime_end': '2022-01-04', 'date': '2018-04-01', 'value': '38.5'}, {'realtime_start': '2022-01-04', 'realtime_end': '2022-01-04', 'date': '2018-07-01', 'value': '38.5'}, {'realtime_start': '2022-01-04', 'realtime_end': '2022-01-04', 'date': '2018-10-01', 'value': '38.6'}, {'realtime_start': '2022-01-04', 'realtime_end': '2022-01-04', 'date': '2019-01-01', 'value': '38.5'}, {'realtime_start': '2022-01-04', 'realtime_end': '2022-01-04', 'date': '2019-04-01', 'value': '38.7'}, {'realtime_start': '2022-01-04', 'realtime_end': '2022-01-04', 'date': '2019-07-01', 'value': '38.8'}, {'realtime_start': '2022-01-04', 'realtime_end': '2022-01-04', 'date': '2019-10-01', 'value': '38.7'}, {'realtime_start': '2022-01-04', 'realtime_end': '2022-01-04', 'date': '2020-01-01', 'value': '38.6'}, {'realtime_start': '2022-01-04', 'realtime_end': '2022-01-04', 'date': '2020-04-01', 'value': '38.4'}, {'realtime_start': '2022-01-04', 'realtime_end': '2022-01-04', 'date': '2020-07-01', 'value': '38.2'}, {'realtime_start': '2022-01-04', 'realtime_end': '2022-01-04', 'date': '2020-10-01', 'value': '38.0'}, {'realtime_start': '2022-01-04', 'realtime_end': '2022-01-04', 'date': '2021-01-01', 'value': '37.7'}, {'realtime_start': '2022-01-04', 'realtime_end': '2022-01-04', 'date': '2021-04-01', 'value': '37.6'}, {'realtime_start': '2022-01-04', 'realtime_end': '2022-01-04', 'date': '2021-07-01', 'value': '37.5'}]}\n",
            "data_FRED-WFRBSN09161.json\n"
          ]
        },
        {
          "output_type": "display_data",
          "data": {
            "application/javascript": [
              "\n",
              "    async function download(id, filename, size) {\n",
              "      if (!google.colab.kernel.accessAllowed) {\n",
              "        return;\n",
              "      }\n",
              "      const div = document.createElement('div');\n",
              "      const label = document.createElement('label');\n",
              "      label.textContent = `Downloading \"${filename}\": `;\n",
              "      div.appendChild(label);\n",
              "      const progress = document.createElement('progress');\n",
              "      progress.max = size;\n",
              "      div.appendChild(progress);\n",
              "      document.body.appendChild(div);\n",
              "\n",
              "      const buffers = [];\n",
              "      let downloaded = 0;\n",
              "\n",
              "      const channel = await google.colab.kernel.comms.open(id);\n",
              "      // Send a message to notify the kernel that we're ready.\n",
              "      channel.send({})\n",
              "\n",
              "      for await (const message of channel.messages) {\n",
              "        // Send a message to notify the kernel that we're ready.\n",
              "        channel.send({})\n",
              "        if (message.buffers) {\n",
              "          for (const buffer of message.buffers) {\n",
              "            buffers.push(buffer);\n",
              "            downloaded += buffer.byteLength;\n",
              "            progress.value = downloaded;\n",
              "          }\n",
              "        }\n",
              "      }\n",
              "      const blob = new Blob(buffers, {type: 'application/binary'});\n",
              "      const a = document.createElement('a');\n",
              "      a.href = window.URL.createObjectURL(blob);\n",
              "      a.download = filename;\n",
              "      div.appendChild(a);\n",
              "      a.click();\n",
              "      div.remove();\n",
              "    }\n",
              "  "
            ],
            "text/plain": [
              "<IPython.core.display.Javascript object>"
            ]
          },
          "metadata": {}
        },
        {
          "output_type": "display_data",
          "data": {
            "application/javascript": [
              "download(\"download_0408c3c1-cb60-4a6e-bb3d-7da42290fa80\", \"data_FRED-WFRBSN09161.json\", 22161)"
            ],
            "text/plain": [
              "<IPython.core.display.Javascript object>"
            ]
          },
          "metadata": {}
        },
        {
          "output_type": "stream",
          "name": "stdout",
          "text": [
            "WFRBLB50107\n",
            "https://api.stlouisfed.org/fred/series/observations?series_id=WFRBLB50107&api_key=22ee7a76e736e32f54f5df0a7171538d&file_type=json\n",
            "{'realtime_start': '2022-01-04', 'realtime_end': '2022-01-04', 'observation_start': '1600-01-01', 'observation_end': '9999-12-31', 'units': 'lin', 'output_type': 1, 'file_type': 'json', 'order_by': 'observation_date', 'sort_order': 'asc', 'count': 129, 'offset': 0, 'limit': 100000, 'observations': [{'realtime_start': '2022-01-04', 'realtime_end': '2022-01-04', 'date': '1989-07-01', 'value': '754396.0'}, {'realtime_start': '2022-01-04', 'realtime_end': '2022-01-04', 'date': '1989-10-01', 'value': '730239.0'}, {'realtime_start': '2022-01-04', 'realtime_end': '2022-01-04', 'date': '1990-01-01', 'value': '766347.0'}, {'realtime_start': '2022-01-04', 'realtime_end': '2022-01-04', 'date': '1990-04-01', 'value': '746208.0'}, {'realtime_start': '2022-01-04', 'realtime_end': '2022-01-04', 'date': '1990-07-01', 'value': '778246.0'}, {'realtime_start': '2022-01-04', 'realtime_end': '2022-01-04', 'date': '1990-10-01', 'value': '779200.0'}, {'realtime_start': '2022-01-04', 'realtime_end': '2022-01-04', 'date': '1991-01-01', 'value': '808456.0'}, {'realtime_start': '2022-01-04', 'realtime_end': '2022-01-04', 'date': '1991-04-01', 'value': '829912.0'}, {'realtime_start': '2022-01-04', 'realtime_end': '2022-01-04', 'date': '1991-07-01', 'value': '884497.0'}, {'realtime_start': '2022-01-04', 'realtime_end': '2022-01-04', 'date': '1991-10-01', 'value': '920128.0'}, {'realtime_start': '2022-01-04', 'realtime_end': '2022-01-04', 'date': '1992-01-01', 'value': '930236.0'}, {'realtime_start': '2022-01-04', 'realtime_end': '2022-01-04', 'date': '1992-04-01', 'value': '934072.0'}, {'realtime_start': '2022-01-04', 'realtime_end': '2022-01-04', 'date': '1992-07-01', 'value': '999246.0'}, {'realtime_start': '2022-01-04', 'realtime_end': '2022-01-04', 'date': '1992-10-01', 'value': '995705.0'}, {'realtime_start': '2022-01-04', 'realtime_end': '2022-01-04', 'date': '1993-01-01', 'value': '937094.0'}, {'realtime_start': '2022-01-04', 'realtime_end': '2022-01-04', 'date': '1993-04-01', 'value': '960159.0'}, {'realtime_start': '2022-01-04', 'realtime_end': '2022-01-04', 'date': '1993-07-01', 'value': '980218.0'}, {'realtime_start': '2022-01-04', 'realtime_end': '2022-01-04', 'date': '1993-10-01', 'value': '966231.0'}, {'realtime_start': '2022-01-04', 'realtime_end': '2022-01-04', 'date': '1994-01-01', 'value': '924018.0'}, {'realtime_start': '2022-01-04', 'realtime_end': '2022-01-04', 'date': '1994-04-01', 'value': '916009.0'}, {'realtime_start': '2022-01-04', 'realtime_end': '2022-01-04', 'date': '1994-07-01', 'value': '935853.0'}, {'realtime_start': '2022-01-04', 'realtime_end': '2022-01-04', 'date': '1994-10-01', 'value': '898730.0'}, {'realtime_start': '2022-01-04', 'realtime_end': '2022-01-04', 'date': '1995-01-01', 'value': '929498.0'}, {'realtime_start': '2022-01-04', 'realtime_end': '2022-01-04', 'date': '1995-04-01', 'value': '1009896.0'}, {'realtime_start': '2022-01-04', 'realtime_end': '2022-01-04', 'date': '1995-07-01', 'value': '1052097.0'}, {'realtime_start': '2022-01-04', 'realtime_end': '2022-01-04', 'date': '1995-10-01', 'value': '1051100.0'}, {'realtime_start': '2022-01-04', 'realtime_end': '2022-01-04', 'date': '1996-01-01', 'value': '1065493.0'}, {'realtime_start': '2022-01-04', 'realtime_end': '2022-01-04', 'date': '1996-04-01', 'value': '1062299.0'}, {'realtime_start': '2022-01-04', 'realtime_end': '2022-01-04', 'date': '1996-07-01', 'value': '1062824.0'}, {'realtime_start': '2022-01-04', 'realtime_end': '2022-01-04', 'date': '1996-10-01', 'value': '1037746.0'}, {'realtime_start': '2022-01-04', 'realtime_end': '2022-01-04', 'date': '1997-01-01', 'value': '1068588.0'}, {'realtime_start': '2022-01-04', 'realtime_end': '2022-01-04', 'date': '1997-04-01', 'value': '1116252.0'}, {'realtime_start': '2022-01-04', 'realtime_end': '2022-01-04', 'date': '1997-07-01', 'value': '1165450.0'}, {'realtime_start': '2022-01-04', 'realtime_end': '2022-01-04', 'date': '1997-10-01', 'value': '1154660.0'}, {'realtime_start': '2022-01-04', 'realtime_end': '2022-01-04', 'date': '1998-01-01', 'value': '1240827.0'}, {'realtime_start': '2022-01-04', 'realtime_end': '2022-01-04', 'date': '1998-04-01', 'value': '1213669.0'}, {'realtime_start': '2022-01-04', 'realtime_end': '2022-01-04', 'date': '1998-07-01', 'value': '1259212.0'}, {'realtime_start': '2022-01-04', 'realtime_end': '2022-01-04', 'date': '1998-10-01', 'value': '1248539.0'}, {'realtime_start': '2022-01-04', 'realtime_end': '2022-01-04', 'date': '1999-01-01', 'value': '1294653.0'}, {'realtime_start': '2022-01-04', 'realtime_end': '2022-01-04', 'date': '1999-04-01', 'value': '1287722.0'}, {'realtime_start': '2022-01-04', 'realtime_end': '2022-01-04', 'date': '1999-07-01', 'value': '1313660.0'}, {'realtime_start': '2022-01-04', 'realtime_end': '2022-01-04', 'date': '1999-10-01', 'value': '1357408.0'}, {'realtime_start': '2022-01-04', 'realtime_end': '2022-01-04', 'date': '2000-01-01', 'value': '1411469.0'}, {'realtime_start': '2022-01-04', 'realtime_end': '2022-01-04', 'date': '2000-04-01', 'value': '1399237.0'}, {'realtime_start': '2022-01-04', 'realtime_end': '2022-01-04', 'date': '2000-07-01', 'value': '1446491.0'}, {'realtime_start': '2022-01-04', 'realtime_end': '2022-01-04', 'date': '2000-10-01', 'value': '1382080.0'}, {'realtime_start': '2022-01-04', 'realtime_end': '2022-01-04', 'date': '2001-01-01', 'value': '1350139.0'}, {'realtime_start': '2022-01-04', 'realtime_end': '2022-01-04', 'date': '2001-04-01', 'value': '1347849.0'}, {'realtime_start': '2022-01-04', 'realtime_end': '2022-01-04', 'date': '2001-07-01', 'value': '1323146.0'}, {'realtime_start': '2022-01-04', 'realtime_end': '2022-01-04', 'date': '2001-10-01', 'value': '1285770.0'}, {'realtime_start': '2022-01-04', 'realtime_end': '2022-01-04', 'date': '2002-01-01', 'value': '1269893.0'}, {'realtime_start': '2022-01-04', 'realtime_end': '2022-01-04', 'date': '2002-04-01', 'value': '1206622.0'}, {'realtime_start': '2022-01-04', 'realtime_end': '2022-01-04', 'date': '2002-07-01', 'value': '1213994.0'}, {'realtime_start': '2022-01-04', 'realtime_end': '2022-01-04', 'date': '2002-10-01', 'value': '1252037.0'}, {'realtime_start': '2022-01-04', 'realtime_end': '2022-01-04', 'date': '2003-01-01', 'value': '1184447.0'}, {'realtime_start': '2022-01-04', 'realtime_end': '2022-01-04', 'date': '2003-04-01', 'value': '1118035.0'}, {'realtime_start': '2022-01-04', 'realtime_end': '2022-01-04', 'date': '2003-07-01', 'value': '1140024.0'}, {'realtime_start': '2022-01-04', 'realtime_end': '2022-01-04', 'date': '2003-10-01', 'value': '1242455.0'}, {'realtime_start': '2022-01-04', 'realtime_end': '2022-01-04', 'date': '2004-01-01', 'value': '1209050.0'}, {'realtime_start': '2022-01-04', 'realtime_end': '2022-01-04', 'date': '2004-04-01', 'value': '1263563.0'}, {'realtime_start': '2022-01-04', 'realtime_end': '2022-01-04', 'date': '2004-07-01', 'value': '1289980.0'}, {'realtime_start': '2022-01-04', 'realtime_end': '2022-01-04', 'date': '2004-10-01', 'value': '1305692.0'}, {'realtime_start': '2022-01-04', 'realtime_end': '2022-01-04', 'date': '2005-01-01', 'value': '1289494.0'}, {'realtime_start': '2022-01-04', 'realtime_end': '2022-01-04', 'date': '2005-04-01', 'value': '1289313.0'}, {'realtime_start': '2022-01-04', 'realtime_end': '2022-01-04', 'date': '2005-07-01', 'value': '1340180.0'}, {'realtime_start': '2022-01-04', 'realtime_end': '2022-01-04', 'date': '2005-10-01', 'value': '1388317.0'}, {'realtime_start': '2022-01-04', 'realtime_end': '2022-01-04', 'date': '2006-01-01', 'value': '1395481.0'}, {'realtime_start': '2022-01-04', 'realtime_end': '2022-01-04', 'date': '2006-04-01', 'value': '1363764.0'}, {'realtime_start': '2022-01-04', 'realtime_end': '2022-01-04', 'date': '2006-07-01', 'value': '1355895.0'}, {'realtime_start': '2022-01-04', 'realtime_end': '2022-01-04', 'date': '2006-10-01', 'value': '1388628.0'}, {'realtime_start': '2022-01-04', 'realtime_end': '2022-01-04', 'date': '2007-01-01', 'value': '1403092.0'}, {'realtime_start': '2022-01-04', 'realtime_end': '2022-01-04', 'date': '2007-04-01', 'value': '1351234.0'}, {'realtime_start': '2022-01-04', 'realtime_end': '2022-01-04', 'date': '2007-07-01', 'value': '1239099.0'}, {'realtime_start': '2022-01-04', 'realtime_end': '2022-01-04', 'date': '2007-10-01', 'value': '1113888.0'}, {'realtime_start': '2022-01-04', 'realtime_end': '2022-01-04', 'date': '2008-01-01', 'value': '1031507.0'}, {'realtime_start': '2022-01-04', 'realtime_end': '2022-01-04', 'date': '2008-04-01', 'value': '967120.0'}, {'realtime_start': '2022-01-04', 'realtime_end': '2022-01-04', 'date': '2008-07-01', 'value': '670513.0'}, {'realtime_start': '2022-01-04', 'realtime_end': '2022-01-04', 'date': '2008-10-01', 'value': '637230.0'}, {'realtime_start': '2022-01-04', 'realtime_end': '2022-01-04', 'date': '2009-01-01', 'value': '647670.0'}, {'realtime_start': '2022-01-04', 'realtime_end': '2022-01-04', 'date': '2009-04-01', 'value': '572255.0'}, {'realtime_start': '2022-01-04', 'realtime_end': '2022-01-04', 'date': '2009-07-01', 'value': '431962.0'}, {'realtime_start': '2022-01-04', 'realtime_end': '2022-01-04', 'date': '2009-10-01', 'value': '397717.0'}, {'realtime_start': '2022-01-04', 'realtime_end': '2022-01-04', 'date': '2010-01-01', 'value': '335651.0'}, {'realtime_start': '2022-01-04', 'realtime_end': '2022-01-04', 'date': '2010-04-01', 'value': '236560.0'}, {'realtime_start': '2022-01-04', 'realtime_end': '2022-01-04', 'date': '2010-07-01', 'value': '311821.0'}, {'realtime_start': '2022-01-04', 'realtime_end': '2022-01-04', 'date': '2010-10-01', 'value': '313933.0'}, {'realtime_start': '2022-01-04', 'realtime_end': '2022-01-04', 'date': '2011-01-01', 'value': '260813.0'}, {'realtime_start': '2022-01-04', 'realtime_end': '2022-01-04', 'date': '2011-04-01', 'value': '183220.0'}, {'realtime_start': '2022-01-04', 'realtime_end': '2022-01-04', 'date': '2011-07-01', 'value': '275806.0'}, {'realtime_start': '2022-01-04', 'realtime_end': '2022-01-04', 'date': '2011-10-01', 'value': '370011.0'}, {'realtime_start': '2022-01-04', 'realtime_end': '2022-01-04', 'date': '2012-01-01', 'value': '392297.0'}, {'realtime_start': '2022-01-04', 'realtime_end': '2022-01-04', 'date': '2012-04-01', 'value': '378449.0'}, {'realtime_start': '2022-01-04', 'realtime_end': '2022-01-04', 'date': '2012-07-01', 'value': '458239.0'}, {'realtime_start': '2022-01-04', 'realtime_end': '2022-01-04', 'date': '2012-10-01', 'value': '546126.0'}, {'realtime_start': '2022-01-04', 'realtime_end': '2022-01-04', 'date': '2013-01-01', 'value': '505659.0'}, {'realtime_start': '2022-01-04', 'realtime_end': '2022-01-04', 'date': '2013-04-01', 'value': '549512.0'}, {'realtime_start': '2022-01-04', 'realtime_end': '2022-01-04', 'date': '2013-07-01', 'value': '635369.0'}, {'realtime_start': '2022-01-04', 'realtime_end': '2022-01-04', 'date': '2013-10-01', 'value': '632349.0'}, {'realtime_start': '2022-01-04', 'realtime_end': '2022-01-04', 'date': '2014-01-01', 'value': '647364.0'}, {'realtime_start': '2022-01-04', 'realtime_end': '2022-01-04', 'date': '2014-04-01', 'value': '741584.0'}, {'realtime_start': '2022-01-04', 'realtime_end': '2022-01-04', 'date': '2014-07-01', 'value': '767120.0'}, {'realtime_start': '2022-01-04', 'realtime_end': '2022-01-04', 'date': '2014-10-01', 'value': '775613.0'}, {'realtime_start': '2022-01-04', 'realtime_end': '2022-01-04', 'date': '2015-01-01', 'value': '824432.0'}, {'realtime_start': '2022-01-04', 'realtime_end': '2022-01-04', 'date': '2015-04-01', 'value': '819883.0'}, {'realtime_start': '2022-01-04', 'realtime_end': '2022-01-04', 'date': '2015-07-01', 'value': '845116.0'}, {'realtime_start': '2022-01-04', 'realtime_end': '2022-01-04', 'date': '2015-10-01', 'value': '956457.0'}, {'realtime_start': '2022-01-04', 'realtime_end': '2022-01-04', 'date': '2016-01-01', 'value': '986473.0'}, {'realtime_start': '2022-01-04', 'realtime_end': '2022-01-04', 'date': '2016-04-01', 'value': '971914.0'}, {'realtime_start': '2022-01-04', 'realtime_end': '2022-01-04', 'date': '2016-07-01', 'value': '1093575.0'}, {'realtime_start': '2022-01-04', 'realtime_end': '2022-01-04', 'date': '2016-10-01', 'value': '1129540.0'}, {'realtime_start': '2022-01-04', 'realtime_end': '2022-01-04', 'date': '2017-01-01', 'value': '1163813.0'}, {'realtime_start': '2022-01-04', 'realtime_end': '2022-01-04', 'date': '2017-04-01', 'value': '1276094.0'}, {'realtime_start': '2022-01-04', 'realtime_end': '2022-01-04', 'date': '2017-07-01', 'value': '1341993.0'}, {'realtime_start': '2022-01-04', 'realtime_end': '2022-01-04', 'date': '2017-10-01', 'value': '1385335.0'}, {'realtime_start': '2022-01-04', 'realtime_end': '2022-01-04', 'date': '2018-01-01', 'value': '1429455.0'}, {'realtime_start': '2022-01-04', 'realtime_end': '2022-01-04', 'date': '2018-04-01', 'value': '1559909.0'}, {'realtime_start': '2022-01-04', 'realtime_end': '2022-01-04', 'date': '2018-07-01', 'value': '1612737.0'}, {'realtime_start': '2022-01-04', 'realtime_end': '2022-01-04', 'date': '2018-10-01', 'value': '1554596.0'}, {'realtime_start': '2022-01-04', 'realtime_end': '2022-01-04', 'date': '2019-01-01', 'value': '1628882.0'}, {'realtime_start': '2022-01-04', 'realtime_end': '2022-01-04', 'date': '2019-04-01', 'value': '1710005.0'}, {'realtime_start': '2022-01-04', 'realtime_end': '2022-01-04', 'date': '2019-07-01', 'value': '1843781.0'}, {'realtime_start': '2022-01-04', 'realtime_end': '2022-01-04', 'date': '2019-10-01', 'value': '1963811.0'}, {'realtime_start': '2022-01-04', 'realtime_end': '2022-01-04', 'date': '2020-01-01', 'value': '1860571.0'}, {'realtime_start': '2022-01-04', 'realtime_end': '2022-01-04', 'date': '2020-04-01', 'value': '1971365.0'}, {'realtime_start': '2022-01-04', 'realtime_end': '2022-01-04', 'date': '2020-07-01', 'value': '2072424.0'}, {'realtime_start': '2022-01-04', 'realtime_end': '2022-01-04', 'date': '2020-10-01', 'value': '2274633.0'}, {'realtime_start': '2022-01-04', 'realtime_end': '2022-01-04', 'date': '2021-01-01', 'value': '2468258.0'}, {'realtime_start': '2022-01-04', 'realtime_end': '2022-01-04', 'date': '2021-04-01', 'value': '2953403.0'}, {'realtime_start': '2022-01-04', 'realtime_end': '2022-01-04', 'date': '2021-07-01', 'value': '3416454.0'}]}\n",
            "data_FRED-WFRBLB50107.json\n"
          ]
        },
        {
          "output_type": "display_data",
          "data": {
            "application/javascript": [
              "\n",
              "    async function download(id, filename, size) {\n",
              "      if (!google.colab.kernel.accessAllowed) {\n",
              "        return;\n",
              "      }\n",
              "      const div = document.createElement('div');\n",
              "      const label = document.createElement('label');\n",
              "      label.textContent = `Downloading \"${filename}\": `;\n",
              "      div.appendChild(label);\n",
              "      const progress = document.createElement('progress');\n",
              "      progress.max = size;\n",
              "      div.appendChild(progress);\n",
              "      document.body.appendChild(div);\n",
              "\n",
              "      const buffers = [];\n",
              "      let downloaded = 0;\n",
              "\n",
              "      const channel = await google.colab.kernel.comms.open(id);\n",
              "      // Send a message to notify the kernel that we're ready.\n",
              "      channel.send({})\n",
              "\n",
              "      for await (const message of channel.messages) {\n",
              "        // Send a message to notify the kernel that we're ready.\n",
              "        channel.send({})\n",
              "        if (message.buffers) {\n",
              "          for (const buffer of message.buffers) {\n",
              "            buffers.push(buffer);\n",
              "            downloaded += buffer.byteLength;\n",
              "            progress.value = downloaded;\n",
              "          }\n",
              "        }\n",
              "      }\n",
              "      const blob = new Blob(buffers, {type: 'application/binary'});\n",
              "      const a = document.createElement('a');\n",
              "      a.href = window.URL.createObjectURL(blob);\n",
              "      a.download = filename;\n",
              "      div.appendChild(a);\n",
              "      a.click();\n",
              "      div.remove();\n",
              "    }\n",
              "  "
            ],
            "text/plain": [
              "<IPython.core.display.Javascript object>"
            ]
          },
          "metadata": {}
        },
        {
          "output_type": "display_data",
          "data": {
            "application/javascript": [
              "download(\"download_e3db922b-d022-447f-9908-072feb327e3d\", \"data_FRED-WFRBLB50107.json\", 22750)"
            ],
            "text/plain": [
              "<IPython.core.display.Javascript object>"
            ]
          },
          "metadata": {}
        }
      ]
    }
  ]
}