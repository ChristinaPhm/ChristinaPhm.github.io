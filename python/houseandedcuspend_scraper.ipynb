{
  "nbformat": 4,
  "nbformat_minor": 0,
  "metadata": {
    "colab": {
      "name": "houseandedcuspend_scraper",
      "provenance": [],
      "include_colab_link": true
    },
    "kernelspec": {
      "name": "python3",
      "display_name": "Python 3"
    },
    "language_info": {
      "name": "python"
    }
  },
  "cells": [
    {
      "cell_type": "markdown",
      "metadata": {
        "id": "view-in-github",
        "colab_type": "text"
      },
      "source": [
        "<a href=\"https://colab.research.google.com/github/ChristinaPhm/ChristinaPhm.github.io/blob/main/houseandedcuspend_scraper.ipynb\" target=\"_parent\"><img src=\"https://colab.research.google.com/assets/colab-badge.svg\" alt=\"Open In Colab\"/></a>"
      ]
    },
    {
      "cell_type": "code",
      "metadata": {
        "id": "CbqILKfn6U_R"
      },
      "source": [
        "import requests\n",
        "import pandas as pd"
      ],
      "execution_count": 1,
      "outputs": []
    },
    {
      "cell_type": "markdown",
      "source": [
        "House Price scraping"
      ],
      "metadata": {
        "id": "DIJubdmpni8w"
      }
    },
    {
      "cell_type": "code",
      "metadata": {
        "id": "NgHp1eZE6iNy"
      },
      "source": [
        "tables=pd.read_html('https://en.wikipedia.org/wiki/List_of_U.S._states_by_median_home_price')\n"
      ],
      "execution_count": 84,
      "outputs": []
    },
    {
      "cell_type": "code",
      "metadata": {
        "id": "jkl4n7ZK6z0d"
      },
      "source": [
        "tables"
      ],
      "execution_count": null,
      "outputs": []
    },
    {
      "cell_type": "code",
      "metadata": {
        "id": "JjSZcu9H7ARC"
      },
      "source": [
        "df=tables[1]"
      ],
      "execution_count": 85,
      "outputs": []
    },
    {
      "cell_type": "code",
      "metadata": {
        "id": "j6a6mltN7CN3"
      },
      "source": [
        "df = df.drop('State rank', axis=1)"
      ],
      "execution_count": 86,
      "outputs": []
    },
    {
      "cell_type": "code",
      "source": [
        "df.columns = ['State','Median House Price']"
      ],
      "metadata": {
        "id": "SqPd6UB6m3w5"
      },
      "execution_count": 87,
      "outputs": []
    },
    {
      "cell_type": "code",
      "source": [
        "df"
      ],
      "metadata": {
        "id": "BuOYZ5SHnOWX"
      },
      "execution_count": null,
      "outputs": []
    },
    {
      "cell_type": "code",
      "source": [
        "df['Median House Price'] = df['Median House Price'].str.replace('$', '').str.replace(',','')\n",
        "df"
      ],
      "metadata": {
        "id": "odTVgVetpVaP"
      },
      "execution_count": null,
      "outputs": []
    },
    {
      "cell_type": "markdown",
      "source": [
        "Public Educational Spending scraping"
      ],
      "metadata": {
        "id": "Sh89JFSknb77"
      }
    },
    {
      "cell_type": "code",
      "source": [
        "tables2=pd.read_html('https://educationdata.org/public-education-spending-statistics')\n"
      ],
      "metadata": {
        "id": "iJklFZ52nbSn"
      },
      "execution_count": 54,
      "outputs": []
    },
    {
      "cell_type": "code",
      "source": [
        "tables2"
      ],
      "metadata": {
        "id": "b9hqLjYlnwjg"
      },
      "execution_count": null,
      "outputs": []
    },
    {
      "cell_type": "code",
      "source": [
        "df2=tables2[2]"
      ],
      "metadata": {
        "id": "ST0Oi9Zvn4fC"
      },
      "execution_count": 91,
      "outputs": []
    },
    {
      "cell_type": "code",
      "source": [
        "df2 = df2.drop('Federal Funding', axis=1)\n",
        "df2"
      ],
      "metadata": {
        "id": "efTwZumvn8mB"
      },
      "execution_count": null,
      "outputs": []
    },
    {
      "cell_type": "code",
      "source": [
        "df2['State & Local Funding'] = df2['State & Local Funding'].str.replace('$', '').str.replace(',','')"
      ],
      "metadata": {
        "id": "TN5A5q_yoZ4a"
      },
      "execution_count": 93,
      "outputs": []
    },
    {
      "cell_type": "code",
      "source": [
        "df2"
      ],
      "metadata": {
        "id": "-brY4VaQrFKT"
      },
      "execution_count": null,
      "outputs": []
    },
    {
      "cell_type": "markdown",
      "source": [
        "Merging the two"
      ],
      "metadata": {
        "id": "hz1hX7oIpctX"
      }
    },
    {
      "cell_type": "code",
      "source": [
        "df = df.set_index('State')\n",
        "df = df.reindex(index=df2['State'])\n",
        "df = df.reset_index()"
      ],
      "metadata": {
        "id": "ycYP-S8cpeOP"
      },
      "execution_count": 95,
      "outputs": []
    },
    {
      "cell_type": "code",
      "source": [
        "df = df.merge(df2)"
      ],
      "metadata": {
        "id": "41tm3yXOvPKN"
      },
      "execution_count": 98,
      "outputs": []
    },
    {
      "cell_type": "code",
      "source": [
        "df"
      ],
      "metadata": {
        "id": "nG9lXAyDvZsG"
      },
      "execution_count": null,
      "outputs": []
    },
    {
      "cell_type": "code",
      "metadata": {
        "id": "PIEk71iC_REo"
      },
      "source": [
        "df.to_csv('house&educspend.csv')"
      ],
      "execution_count": 100,
      "outputs": []
    }
  ]
}
