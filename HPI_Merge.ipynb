{
  "nbformat": 4,
  "nbformat_minor": 0,
  "metadata": {
    "colab": {
      "name": "HPI_Merge",
      "provenance": [],
      "include_colab_link": true
    },
    "kernelspec": {
      "name": "python3",
      "display_name": "Python 3"
    },
    "language_info": {
      "name": "python"
    }
  },
  "cells": [
    {
      "cell_type": "markdown",
      "metadata": {
        "id": "view-in-github",
        "colab_type": "text"
      },
      "source": [
        "<a href=\"https://colab.research.google.com/github/ChristinaPhm/ChristinaPhm.github.io/blob/main/HPI_Merge.ipynb\" target=\"_parent\"><img src=\"https://colab.research.google.com/assets/colab-badge.svg\" alt=\"Open In Colab\"/></a>"
      ]
    },
    {
      "cell_type": "code",
      "metadata": {
        "id": "CbqILKfn6U_R"
      },
      "source": [
        "import requests\n",
        "import pandas as pd"
      ],
      "execution_count": 30,
      "outputs": []
    },
    {
      "cell_type": "code",
      "metadata": {
        "id": "NgHp1eZE6iNy"
      },
      "source": [
        "Maryland=pd.read_csv('https://raw.githubusercontent.com/ChristinaPhm/ChristinaPhm.github.io/main/data/MDSTHPI.csv')\n",
        "NewYork=pd.read_csv('https://raw.githubusercontent.com/ChristinaPhm/ChristinaPhm.github.io/main/data/NYSTHPI.csv')\n",
        "Mississippi=pd.read_csv('https://raw.githubusercontent.com/ChristinaPhm/ChristinaPhm.github.io/main/data/MSSTHPI.csv')"
      ],
      "execution_count": 31,
      "outputs": []
    },
    {
      "cell_type": "code",
      "metadata": {
        "id": "jkl4n7ZK6z0d"
      },
      "source": [
        "Maryland"
      ],
      "execution_count": null,
      "outputs": []
    },
    {
      "cell_type": "code",
      "metadata": {
        "id": "j6a6mltN7CN3"
      },
      "source": [
        "NewYork"
      ],
      "execution_count": null,
      "outputs": []
    },
    {
      "cell_type": "code",
      "metadata": {
        "id": "RbRRfwd7_Mc0"
      },
      "source": [
        "Mississippi"
      ],
      "execution_count": null,
      "outputs": []
    },
    {
      "cell_type": "code",
      "source": [
        "df = pd.DataFrame(Maryland)"
      ],
      "metadata": {
        "id": "X_4-qL6mbjSY"
      },
      "execution_count": 39,
      "outputs": []
    },
    {
      "cell_type": "code",
      "source": [
        "df = df.merge(NewYork)"
      ],
      "metadata": {
        "id": "V0tk-_-EcsON"
      },
      "execution_count": 42,
      "outputs": []
    },
    {
      "cell_type": "code",
      "source": [
        "df = df.merge(Mississippi)\n",
        "df.to_csv('housepriceindex.csv')"
      ],
      "metadata": {
        "id": "OTQwvvDacuI6"
      },
      "execution_count": 43,
      "outputs": []
    },
    {
      "cell_type": "code",
      "metadata": {
        "id": "B2hleLr3_Q7-"
      },
      "source": [
        ""
      ],
      "execution_count": null,
      "outputs": []
    }
  ]
}